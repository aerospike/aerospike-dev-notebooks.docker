{
 "cells": [
  {
   "cell_type": "markdown",
   "id": "loaded-voluntary",
   "metadata": {},
   "source": [
    "# Document-Oriented Data Modeling in Java\n",
    "\n",
    "The key to using Aerospike in the most highly-performant way is to architect usage based on the data reads and writes for the application. The practical approach is to find the right way to mesh your application's and Aerospike's data models. \n",
    "\n",
    "This notebook explains how to assign application objects to elements of Aerospike's [data model](https://www.aerospike.com/docs/architecture/data-model.html). "
   ]
  },
  {
   "cell_type": "markdown",
   "id": "employed-translation",
   "metadata": {},
   "source": [
    "# The Ins and Outs of Aerospike's Data Model\n",
    "\n",
    "Aerospike was architected to provide [real-time](http://www.vldb.org/pvldb/vol9/p1389-srinivasan.pdf) database performance with the flexibility to store indexes and data in RAM, Flash Memory, or in Persistent Memory. It actually shares more in common with relational database management systems than other NoSQL databases.\n",
    "\n",
    "Aerospike provides up to three organizational labels to refer to a unique record –\n",
    "1. Namespace\n",
    "2. Set (optional)\n",
    "3. Key\n",
    "\n",
    "Each record is a document containing the following: \n",
    "* Key\n",
    "    * Namespace\n",
    "    * Set\n",
    "    * *userkey* (optional)\n",
    "    * RipeMD-160 Digest\n",
    "* Metadata\n",
    "    * TTL\n",
    "    * Update Generation Counter\n",
    "* Bins of data\n",
    "\n",
    "The following describes their strengths and limits.\n",
    "\n",
    "For more information on Aerospike's [data model](https://aerospike.com/docs/architecture/data-model.html), go [here](https://aerospike.com/docs/architecture/data-model.html)."
   ]
  },
  {
   "cell_type": "markdown",
   "id": "sorted-shape",
   "metadata": {},
   "source": [
    "## Namespaces Connect Data to Hardware\n",
    "\n",
    "The **Namespace** you assign to your data will determine the hardware used for your index and data. "
   ]
  },
  {
   "cell_type": "markdown",
   "id": "mighty-tomorrow",
   "metadata": {},
   "source": [
    "### Namespace Limitations\n",
    "\n",
    "Namespaces have the following architected maxima:\n",
    "* Name – 31 characters\n",
    "* Quantity – 32 in Enterprise Edition, 2 in Community Edition\n",
    "* File or Disk Size – 2TiB\n",
    "* Devices – 128\n",
    "\n",
    "Every platform [limitation](https://www.aerospike.com/docs/guide/limitations.html) was architected with bottom-line performance in mind."
   ]
  },
  {
   "cell_type": "markdown",
   "id": "posted-transcript",
   "metadata": {},
   "source": [
    "## Sets Provide A Way to Relate Multiple Records\n",
    "\n",
    "Distinct read-ability, drop-ability."
   ]
  },
  {
   "cell_type": "markdown",
   "id": "animal-finding",
   "metadata": {},
   "source": []
  },
  {
   "cell_type": "markdown",
   "id": "prospective-balloon",
   "metadata": {},
   "source": []
  },
  {
   "cell_type": "markdown",
   "id": "broad-great",
   "metadata": {},
   "source": [
    "## Records Set the Size for Reads and Writes\n",
    "\n",
    "Transactions lock."
   ]
  },
  {
   "cell_type": "markdown",
   "id": "fifteen-andorra",
   "metadata": {},
   "source": [
    "## Bins Set The Size for Data Usability\n",
    "\n",
    "A **Key** specifies a unique record, made of 1 or more **Bins**"
   ]
  },
  {
   "cell_type": "markdown",
   "id": "interested-colleague",
   "metadata": {},
   "source": [
    "### Bin Limitations\n",
    "\n",
    "Bins have the following architected maxima: \n",
    "* 32k-1 bin names per namespace\n",
    "* 32k-1 bins per record\n",
    "* 15 chars per bin name\n",
    "\n"
   ]
  },
  {
   "cell_type": "markdown",
   "id": "asian-headquarters",
   "metadata": {},
   "source": [
    "### Data Types Needing Their Own Bin"
   ]
  },
  {
   "cell_type": "markdown",
   "id": "bright-universal",
   "metadata": {},
   "source": [
    "### Structuring Data Inside Bins\n",
    "\n",
    "Maps and Lists Provide"
   ]
  },
  {
   "cell_type": "markdown",
   "id": "expected-funds",
   "metadata": {},
   "source": [
    "### When to Use a Bin or Map"
   ]
  },
  {
   "cell_type": "markdown",
   "id": "sensitive-dress",
   "metadata": {},
   "source": []
  },
  {
   "cell_type": "markdown",
   "id": "usual-collectible",
   "metadata": {},
   "source": []
  },
  {
   "cell_type": "markdown",
   "id": "martial-heather",
   "metadata": {},
   "source": [
    "# Sorting\n",
    "\n",
    "JIT versus in-database sort"
   ]
  },
  {
   "cell_type": "markdown",
   "id": "little-christianity",
   "metadata": {},
   "source": []
  },
  {
   "cell_type": "markdown",
   "id": "current-singles",
   "metadata": {},
   "source": [
    "# Examples\n",
    "\n",
    "The following are common sense examples that highlight Aerospike best practice.\n",
    "\n",
    "Aerospike uses **MessagePack** for efficient serialization. For more information on [MessagePack](https://msgpack.org/), Go [here](https://msgpack.org/)."
   ]
  },
  {
   "cell_type": "markdown",
   "id": "genetic-washer",
   "metadata": {},
   "source": [
    "## IoT\n",
    "\n",
    "Consider sensors storing observations every minute. An efficient model to store and load metrics consists of a list containing the following tuple structure:\n",
    "\n",
    "**\\[Minutes-Since-Epoch, Sensor-Reading\\]**\n",
    "\n",
    "For more background on this example, see https://dev.to/aerospike/aerospike-modeling-iot-sensors-453a. (19:49)"
   ]
  },
  {
   "cell_type": "markdown",
   "id": "alive-traffic",
   "metadata": {},
   "source": [
    "## User Credit Cards"
   ]
  },
  {
   "cell_type": "markdown",
   "id": "sustained-dealing",
   "metadata": {},
   "source": [
    "## Mobile Device Usage"
   ]
  },
  {
   "cell_type": "markdown",
   "id": "inner-institution",
   "metadata": {},
   "source": [
    "## Reddit"
   ]
  },
  {
   "cell_type": "markdown",
   "id": "sapphire-blogger",
   "metadata": {},
   "source": []
  },
  {
   "cell_type": "markdown",
   "id": "geological-crystal",
   "metadata": {},
   "source": []
  },
  {
   "cell_type": "markdown",
   "id": "exotic-directory",
   "metadata": {},
   "source": []
  },
  {
   "cell_type": "markdown",
   "id": "strange-exhibit",
   "metadata": {},
   "source": []
  },
  {
   "cell_type": "markdown",
   "id": "falling-guidance",
   "metadata": {},
   "source": []
  }
 ],
 "metadata": {
  "kernelspec": {
   "display_name": "Java",
   "language": "java",
   "name": "java"
  },
  "language_info": {
   "codemirror_mode": "java",
   "file_extension": ".jshell",
   "mimetype": "text/x-java-source",
   "name": "Java",
   "pygments_lexer": "java",
   "version": "11.0.8+10-LTS"
  },
  "toc": {
   "base_numbering": 1,
   "nav_menu": {},
   "number_sections": true,
   "sideBar": true,
   "skip_h1_title": false,
   "title_cell": "Table of Contents",
   "title_sidebar": "Contents",
   "toc_cell": false,
   "toc_position": {},
   "toc_section_display": true,
   "toc_window_display": true
  }
 },
 "nbformat": 4,
 "nbformat_minor": 5
}
