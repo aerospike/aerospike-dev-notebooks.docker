{
 "cells": [
  {
   "cell_type": "markdown",
   "id": "fitted-observation",
   "metadata": {},
   "source": [
    "# Introduction to Transactions with Aerospike\n",
    "\n",
    "Aerospike was architected to process a high volume of concurrent real time reads and writes for Internet scale applications. Aerospike provides scale out compute by adding additional nodes and/or clusters of nodes without changing application code. \n",
    "\n",
    "Application code specifies the necessary process and data policy to execute one or one billion Aerospike read and write operations. This notebook explains the basics of executing multiple operations on one record as a transaction. \n",
    "\n",
    "This notebook does not detail replication across clusters. "
   ]
  },
  {
   "cell_type": "markdown",
   "id": "recovered-float",
   "metadata": {},
   "source": [
    "## Notebook Setup"
   ]
  },
  {
   "cell_type": "markdown",
   "id": "wrapped-viking",
   "metadata": {},
   "source": [
    "### Import Jupyter Java Integration "
   ]
  },
  {
   "cell_type": "code",
   "execution_count": 2,
   "id": "iraqi-sweden",
   "metadata": {},
   "outputs": [],
   "source": [
    "import io.github.spencerpark.ijava.IJava;\n",
    "import io.github.spencerpark.jupyter.kernel.magic.common.Shell;\n",
    "\n",
    "IJava.getKernelInstance().getMagics().registerMagics(Shell.class);"
   ]
  },
  {
   "cell_type": "markdown",
   "id": "bored-postcard",
   "metadata": {},
   "source": [
    "### Start Aerospike"
   ]
  },
  {
   "cell_type": "code",
   "execution_count": 3,
   "id": "recognized-collector",
   "metadata": {},
   "outputs": [],
   "source": [
    "%sh asd"
   ]
  },
  {
   "cell_type": "markdown",
   "id": "original-carolina",
   "metadata": {},
   "source": [
    "### Download the Aerospike Java Client"
   ]
  },
  {
   "cell_type": "code",
   "execution_count": 4,
   "id": "chronic-behalf",
   "metadata": {},
   "outputs": [],
   "source": [
    "%%loadFromPOM\n",
    "<dependencies>\n",
    "  <dependency>\n",
    "    <groupId>com.aerospike</groupId>\n",
    "    <artifactId>aerospike-client</artifactId>\n",
    "    <version>5.0.0</version>\n",
    "  </dependency>\n",
    "</dependencies>"
   ]
  },
  {
   "cell_type": "markdown",
   "id": "promising-february",
   "metadata": {},
   "source": [
    "### Start the Aerospike Java Client and Connect\n",
    "\n",
    "The default cluster location for the Docker container is *localhost* port *3000*. If your cluster is not running on your local machine, modify *localhost* and *3000* to the values for your Aerospike cluster."
   ]
  },
  {
   "cell_type": "code",
   "execution_count": 5,
   "id": "unlike-command",
   "metadata": {},
   "outputs": [
    {
     "name": "stdout",
     "output_type": "stream",
     "text": [
      "Initialized the client and connected to the cluster.\n"
     ]
    }
   ],
   "source": [
    "import com.aerospike.client.AerospikeClient;\n",
    "\n",
    "AerospikeClient client = new AerospikeClient(\"localhost\", 3000);\n",
    "System.out.println(\"Initialized the client and connected to the cluster.\");"
   ]
  },
  {
   "cell_type": "markdown",
   "id": "dominican-catering",
   "metadata": {},
   "source": [
    "# Pay Attention to Application Read/Write Patterns\n",
    "\n",
    "Aerospike locks a record when performing a read or write, to ensure consistent data across a cluster. For applications without concurrent read/writes, transaction processing is not necessary. As an application grows, its patterns of reads and writes become more pronounced. The intent of the application will often suggest its needs for transaction processing.\n",
    "\n",
    "Simple questions to ask about each record read and write: \n",
    "* What concurrent reads/writes could be happening on the record?\n",
    "* Can this operation execute in multiple pieces without risk to the rest of the app? "
   ]
  },
  {
   "cell_type": "markdown",
   "id": "engaging-estate",
   "metadata": {},
   "source": [
    "## Aerospike Provides Intuitive Atomic Reads and Writes\n",
    "\n",
    "Aerospike provides client APIs to read and write different types of data. Each client operation sent to an Aerospike server or cluster executes as an atomic (ACID) operation.\n",
    "\n",
    "For additional information on Aerospike's single-record variant of [ACID compliance](https://www.aerospike.com/docs/architecture/acid.html), go [here](https://www.aerospike.com/docs/architecture/acid.html)."
   ]
  },
  {
   "cell_type": "markdown",
   "id": "geological-holmes",
   "metadata": {},
   "source": [
    "## Operate Applies One or More Operations\n",
    "\n",
    "For the case where an application uses Aerospike as a key/value store without applying [Aerospike data types](https://www.aerospike.com/docs/guide/data-types.html) to data, the [AerospikeClient](https://www.aerospike.com/apidocs/java/com/aerospike/client/AerospikeClient.html) provides the super fast, basic getters and setters for bins of data. \n",
    "\n",
    "The most frequently used and simplest technique to execute more than one operation in an atomic fashion is the [Operation API](https://www.aerospike.com/apidocs/java/com/aerospike/client/Operation.html). Using this API, the Aerospike client can execute the following on one record of data:\n",
    "* a single read or write operation \n",
    "* complex combinations of reads and writes "
   ]
  },
  {
   "cell_type": "markdown",
   "id": "cellular-retrieval",
   "metadata": {},
   "source": [
    "## Using Discrete Operations on a Full Record\n",
    "\n",
    "Aerospike provides the following record operations:\n",
    "* Get – Read a record.\n",
    "* Getheader – Read a record's TTL and generation counter.\n",
    "* Touch – Increase a record's generation counter.\n",
    "* Delete – Delete a record."
   ]
  },
  {
   "cell_type": "markdown",
   "id": "french-binding",
   "metadata": {},
   "source": [
    "### Create Test Data\n",
    "\n",
    "Create a simple instance of every Aerospike data type."
   ]
  },
  {
   "cell_type": "code",
   "execution_count": 6,
   "id": "spatial-imaging",
   "metadata": {},
   "outputs": [
    {
     "name": "stdout",
     "output_type": "stream",
     "text": [
      "String: atomic\n",
      "Integer: 8\n",
      "Double: 6.022\n",
      "Blob: [B@23698653\n",
      "Blob as an Array: [1, 2, 3, 4, 5]\n",
      "HLL: Starts with no data.\n",
      "Geo: { \"type\": \"Polygon\", \"coordinates\": [ [[-122.500, 37.000], [-121.000, 37.000], [-121.000, 38.080], [-122.500, 38.080], [-122.500, 37.000]] ] }\n",
      "List: [1]\n",
      "Map: {2=4}\n"
     ]
    }
   ],
   "source": [
    "import java.util.ArrayList;\n",
    "import java.util.Arrays;\n",
    "import java.util.List;\n",
    "import java.util.Map;\n",
    "import java.util.HashMap;\n",
    "\n",
    "String txnString = \"atomic\";\n",
    "Integer txnInteger = 8;\n",
    "Double txnDouble = 6.022;\n",
    "byte[] txnBlob = new byte[] {0b00000001, 0b00000010, 0b00000011, 0b00000100, 0b00000101};\n",
    "String txnGeo = String.format(\"{ \\\"type\\\": \\\"Polygon\\\", \\\"coordinates\\\": [ [[-122.500, 37.000], [-121.000, 37.000], [-121.000, 38.080], [-122.500, 38.080], [-122.500, 37.000]] ] }\");\n",
    "ArrayList<Integer> txnList = new ArrayList<Integer>();\n",
    "txnList.add(1);\n",
    "\n",
    "HashMap<Integer, Integer> txnMap = new HashMap <Integer, Integer>();\n",
    "txnMap.put(2, 4);\n",
    "\n",
    "System.out.println(\"String: \" + txnString);\n",
    "System.out.println(\"Integer: \" + txnInteger);\n",
    "System.out.println(\"Double: \" + txnDouble);\n",
    "System.out.println(\"Blob: \" + txnBlob);\n",
    "System.out.println(\"Blob as an Array: \" + Arrays.toString(txnBlob));\n",
    "System.out.println(\"HLL: Starts with no data.\");\n",
    "System.out.println(\"Geo: \" + txnGeo);\n",
    "System.out.println(\"List: \" + txnList);\n",
    "System.out.println(\"Map: \" + txnMap);"
   ]
  },
  {
   "cell_type": "markdown",
   "id": "destroyed-value",
   "metadata": {},
   "source": [
    "### Put Data Into An Aerospike Record"
   ]
  },
  {
   "cell_type": "code",
   "execution_count": 7,
   "id": "altered-nursery",
   "metadata": {},
   "outputs": [
    {
     "name": "stdout",
     "output_type": "stream",
     "text": [
      "Put data into Aerospike: str, int, double, blob, hll, geo, list, map\n"
     ]
    }
   ],
   "source": [
    "import com.aerospike.client.Key;\n",
    "import com.aerospike.client.Bin;\n",
    "import com.aerospike.client.Value;\n",
    "import com.aerospike.client.policy.WritePolicy;\n",
    "import com.aerospike.client.policy.ClientPolicy;\n",
    "\n",
    "Integer theKey = 0;\n",
    "String txnSet = \"txnset\";\n",
    "String txnNamespace = \"test\";\n",
    "\n",
    "String txnStringBin = \"str\";\n",
    "String txnIntegerBin = \"int\";\n",
    "String txnDoubleBin = \"double\";\n",
    "String txnBlobBin = \"blob\";\n",
    "String txnHLLBin = \"hll\";\n",
    "String txnGeoBin = \"geo\";\n",
    "String txnListBin = \"list\";\n",
    "String txnMapBin = \"map\";\n",
    "ClientPolicy clientPolicy = new ClientPolicy();\n",
    "\n",
    "Key key = new Key(txnNamespace, txnSet, theKey);\n",
    "Bin bin0 = new Bin(txnStringBin, txnString);\n",
    "Bin bin1 = new Bin(txnIntegerBin, txnInteger);\n",
    "Bin bin2 = new Bin(txnDoubleBin, txnDouble);\n",
    "Bin bin3 = new Bin(txnBlobBin, txnBlob);\n",
    "Bin bin4 = new Bin(txnHLLBin, Value.getAsNull());\n",
    "Bin bin5 = new Bin(txnGeoBin, Value.getAsGeoJSON(txnGeo));\n",
    "Bin bin6 = new Bin(txnListBin, txnList);\n",
    "Bin bin7 = new Bin(txnMapBin, txnMap);\n",
    "\n",
    "client.put(clientPolicy.writePolicyDefault, key, bin0, bin1, bin2, bin3, bin5, bin6, bin7);\n",
    "\n",
    "System.out.println(\"Put data into Aerospike: \"\n",
    "                    + txnStringBin + \", \"\n",
    "                    + txnIntegerBin + \", \" \n",
    "                    + txnDoubleBin + \", \" \n",
    "                    + txnBlobBin + \", \" \n",
    "                    + txnHLLBin + \", \" \n",
    "                    + txnGeoBin + \", \" \n",
    "                    + txnListBin + \", \" \n",
    "                    + txnMapBin);"
   ]
  },
  {
   "cell_type": "markdown",
   "id": "empty-cabin",
   "metadata": {},
   "source": [
    "### Get the Record"
   ]
  },
  {
   "cell_type": "code",
   "execution_count": 8,
   "id": "surrounded-hobby",
   "metadata": {},
   "outputs": [
    {
     "name": "stdout",
     "output_type": "stream",
     "text": [
      "(gen:1),(exp:355177293),(bins:(str:atomic),(int:8),(double:6.022),(blob:[B@267fae09),(geo:{ \"type\": \"Polygon\", \"coordinates\": [ [[-122.500, 37.000], [-121.000, 37.000], [-121.000, 38.080], [-122.500, 38.080], [-122.500, 37.000]] ] }),(list:[1]),(map:{2=4}))\n"
     ]
    }
   ],
   "source": [
    "import com.aerospike.client.Record;\n",
    "\n",
    "Key key = new Key(txnNamespace, txnSet, theKey);\n",
    "Record record = client.get(null, key);\n",
    "System.out.println(record);"
   ]
  },
  {
   "cell_type": "markdown",
   "id": "appropriate-watershed",
   "metadata": {},
   "source": [
    "### Get the Record Header"
   ]
  },
  {
   "cell_type": "code",
   "execution_count": 9,
   "id": "pressing-discussion",
   "metadata": {},
   "outputs": [
    {
     "name": "stdout",
     "output_type": "stream",
     "text": [
      "(gen:1),(exp:355177293),(bins:null)\n"
     ]
    }
   ],
   "source": [
    "Key key = new Key(txnNamespace, txnSet, theKey);\n",
    "Record record = client.getHeader(null, key);\n",
    "System.out.println(record);"
   ]
  },
  {
   "cell_type": "markdown",
   "id": "genetic-impression",
   "metadata": {},
   "source": [
    "### Touch the Record"
   ]
  },
  {
   "cell_type": "code",
   "execution_count": 20,
   "id": "continental-papua",
   "metadata": {},
   "outputs": [
    {
     "name": "stdout",
     "output_type": "stream",
     "text": [
      "(gen:11),(exp:355181780),(bins:(str:atomic),(int:8),(double:6.022),(blob:[B@7242bad6),(geo:{ \"type\": \"Polygon\", \"coordinates\": [ [[-122.500, 37.000], [-121.000, 37.000], [-121.000, 38.080], [-122.500, 38.080], [-122.500, 37.000]] ] }),(list:[1]),(map:{2=4}),(hll:0008000000000000000000000000000000000000000000000000000000000000000000000000000000000000000000000000000000000000000000000000000000000000000000000000000000000000000000000000000000000000000000000000000000000000000000000000000000000000000000000000000000000000000000000000000000000000000000000000000000000000000000000000000000000000000000000000000000000000000000000000000000000000000000000000000000000000000000))\n"
     ]
    }
   ],
   "source": [
    "Key key = new Key(txnNamespace, txnSet, theKey);\n",
    "client.touch(client.writePolicyDefault, key);\n",
    "Record record = client.get(client.writePolicyDefault, key);\n",
    "System.out.println(record);"
   ]
  },
  {
   "cell_type": "markdown",
   "id": "coupled-consent",
   "metadata": {
    "heading_collapsed": true
   },
   "source": [
    "### Operating on Simple Bin Data\n",
    "\n",
    "When operating on simple data–Strings, Integers, and Doubles–, Aerospike provides standard create, read, update, and delete operations and also increment operations, like prepend/append  and add. \n",
    "\n",
    "For more information on [record operations and simple data operations](https://www.aerospike.com/apidocs/java/com/aerospike/client/Operation.html), go [here](https://www.aerospike.com/apidocs/java/com/aerospike/client/Operation.html).  "
   ]
  },
  {
   "cell_type": "markdown",
   "id": "mineral-setting",
   "metadata": {},
   "source": [
    "### Operating on String Data\n",
    "\n",
    "Append to a string."
   ]
  },
  {
   "cell_type": "code",
   "execution_count": 21,
   "id": "forced-wells",
   "metadata": {},
   "outputs": [
    {
     "name": "stdout",
     "output_type": "stream",
     "text": [
      "Before, the str was - atomic\n",
      "  After, the str is - atomic-operation\n"
     ]
    }
   ],
   "source": [
    "String txnAppendString = \"-operation\";\n",
    "bin0 = new Bin(txnStringBin, txnAppendString);\n",
    "\n",
    "Key key = new Key(txnNamespace, txnSet, theKey);\n",
    "Record record = client.get(client.writePolicyDefault, key);\n",
    "client.append(client.writePolicyDefault, key, bin0);\n",
    "Record after = client.get(client.writePolicyDefault, key);\n",
    "\n",
    "System.out.println(\"Before, the \" + txnStringBin + \" was - \" + record.getValue(txnStringBin));\n",
    "System.out.println(\"  After, the \" + txnStringBin + \" is - \" + after.getValue(txnStringBin));"
   ]
  },
  {
   "cell_type": "markdown",
   "id": "mechanical-arrival",
   "metadata": {},
   "source": [
    "### Operating on Integer Data\n",
    "\n",
    "Add to an integer."
   ]
  },
  {
   "cell_type": "code",
   "execution_count": 22,
   "id": "cheap-ceramic",
   "metadata": {},
   "outputs": [
    {
     "name": "stdout",
     "output_type": "stream",
     "text": [
      "Before, the int was - 8\n",
      "  After, the int is - 13\n"
     ]
    }
   ],
   "source": [
    "Integer txnAddInt = 5;\n",
    "Bin binIntAdd = new Bin(txnIntegerBin, txnAddInt);\n",
    "\n",
    "Key key = new Key(txnNamespace, txnSet, theKey);\n",
    "Record record = client.get(client.writePolicyDefault, key);\n",
    "client.add(client.writePolicyDefault, key, binIntAdd);\n",
    "Record after = client.get(client.writePolicyDefault, key);\n",
    "\n",
    "System.out.println(\"Before, the \" + txnIntegerBin + \" was - \" + record.getValue(txnIntegerBin));\n",
    "System.out.println(\"  After, the \" + txnIntegerBin + \" is - \" + after.getValue(txnIntegerBin));"
   ]
  },
  {
   "cell_type": "markdown",
   "id": "automated-palace",
   "metadata": {},
   "source": [
    "### Operating on Double Data\n",
    "\n",
    "Subtract from a double."
   ]
  },
  {
   "cell_type": "code",
   "execution_count": 23,
   "id": "waiting-sheriff",
   "metadata": {},
   "outputs": [
    {
     "name": "stdout",
     "output_type": "stream",
     "text": [
      "Before, the double was - 6.022\n",
      "  After, the double is - 2.8800000000000003\n"
     ]
    }
   ],
   "source": [
    "Double txnAddDouble = -3.142;\n",
    "Bin binDoubleAdd = new Bin(txnDoubleBin, txnAddDouble);\n",
    "\n",
    "Key key = new Key(txnNamespace, txnSet, theKey);\n",
    "Record record = client.get(client.writePolicyDefault, key);\n",
    "client.add(client.writePolicyDefault, key, binDoubleAdd);\n",
    "Record after = client.get(client.writePolicyDefault, key);\n",
    "\n",
    "System.out.println(\"Before, the \" + txnDoubleBin + \" was - \" + record.getValue(txnDoubleBin));\n",
    "System.out.println(\"  After, the \" + txnDoubleBin + \" is - \" + after.getValue(txnDoubleBin));"
   ]
  },
  {
   "cell_type": "markdown",
   "id": "sensitive-manhattan",
   "metadata": {},
   "source": [
    "## Operating on Complex Data Types\n",
    "\n",
    "Aerospike also provides data-type-specific operations to work with complex data types:\n",
    "* Blob/Bit Data\n",
    "* HyperLogLog (as a HyperMinHash)\n",
    "* Collection Data Types\n",
    "   * Lists\n",
    "   * Maps\n",
    "* GeoJSON\n"
   ]
  },
  {
   "cell_type": "markdown",
   "id": "equipped-ownership",
   "metadata": {},
   "source": [
    "### Operating on Blob/Bit Data\n",
    "\n",
    "In addition to CRUD operations, Aerospike provides standard bitwise operations, such as logical operators (AND, OR, NOT, etc.), add/subtract, and shifts.\n",
    "\n",
    "For more information on [Bit Operations](https://www.aerospike.com/apidocs/java/com/aerospike/client/operation/BitOperation.html), go [here](https://www.aerospike.com/apidocs/java/com/aerospike/client/operation/BitOperation.html)."
   ]
  },
  {
   "cell_type": "code",
   "execution_count": 24,
   "id": "mobile-findings",
   "metadata": {},
   "outputs": [
    {
     "name": "stdout",
     "output_type": "stream",
     "text": [
      "Before:[B@619915f4\n",
      "Before:[91, 66, 64, 54, 49, 57, 57, 49, 53, 102, 52]\n",
      "Before:[B@619915f4\n",
      "After:[B@1b6eabb\n",
      "Before, the int was - [B@619915f4\n",
      "  After, the int is - [B@1b6eabb\n"
     ]
    }
   ],
   "source": [
    "import com.aerospike.client.operation.BitOperation;\n",
    "import com.aerospike.client.operation.BitPolicy;\n",
    "\n",
    "byte[] bitsToSet = new byte[] {(byte)0b11100000};\n",
    "Integer bitSize = 8;\n",
    "// Integer bitShift = 3;\n",
    "Integer bitOffset = 13;\n",
    "\n",
    "BitPolicy bitPolicy = new BitPolicy();\n",
    "Key key = new Key(txnNamespace, txnSet, theKey);\n",
    "Record record = client.get(client.writePolicyDefault, key);\n",
    "\n",
    "System.out.println(\"Before:\" + record.getValue(txnBlobBin).toString());\n",
    "\n",
    " byte[] blobOut = record.getValue(txnBlobBin).toString().getBytes();\n",
    "\n",
    "// String blobString = record.getValue(txnBlobBin).toString();\n",
    "// byte[] blobOut = (byte[])blobString.getBytes();\n",
    "\n",
    "// byte[] blobOut = (byte[]) record.getValue(txnBlobBin).getBytes();\n",
    "System.out.println(\"Before:\" + Arrays.toString(blobOut));\n",
    "\n",
    "// System.out.println(\"Before:\" + Arrays.toString(record.getValue(txnBlobBin)));\n",
    "System.out.println(\"Before:\" + record.getValue(txnBlobBin));\n",
    "\n",
    "\n",
    "client.operate(client.writePolicyDefault, key,\n",
    "     BitOperation.set(bitPolicy.Default, txnBlobBin, bitOffset, bitSize, bitsToSet)\n",
    ");\n",
    "Record after = client.get(client.writePolicyDefault, key);\n",
    "\n",
    "\n",
    "System.out.println(\"After:\" + after.getValue(txnBlobBin));\n",
    "\n",
    "System.out.println(\"Before, the \" + txnIntegerBin + \" was - \" + record.getValue(txnBlobBin));\n",
    "System.out.println(\"  After, the \" + txnIntegerBin + \" is - \" + after.getValue(txnBlobBin));"
   ]
  },
  {
   "cell_type": "markdown",
   "id": "impressive-disabled",
   "metadata": {},
   "source": [
    "### Operating on HyperLogLog Data\n",
    "\n",
    "HyperLogLog is a probabilistic data type used for counting really large data sets. Aerospike provides operations to:\n",
    "* Maintain the data type (init, reset, etc.)\n",
    "* Add data to these data sets.\n",
    "* Compare HyperLogLog data (intersection, unions, etc.).\n",
    "\n",
    "For more information on [HyperLogLog Operations](https://www.aerospike.com/apidocs/java/com/aerospike/client/operation/HLLOperation.html), go [here](https://www.aerospike.com/apidocs/java/com/aerospike/client/operation/HLLOperation.html)."
   ]
  },
  {
   "cell_type": "code",
   "execution_count": 19,
   "id": "reverse-prayer",
   "metadata": {},
   "outputs": [
    {
     "name": "stdout",
     "output_type": "stream",
     "text": [
      "Before, the hll was - 000a000000000000000000000000000000000000000000000000000000000000000000000000000000000000000000000000000000000000000000000000000000000000000000000000000000000000000000000000000000000000000000000000000000000000000000000000000000000000000000000000000000000000000000000000000000000000000000000000000000000000000000000000000000000000000000000000000000000000000000000000000000000000000000000000000000000000000000000000000000000000000000000000000000000000000000000000000000000000000000000000000000000000000000000000000000000000000000000000000000000000000000000000000000000000000000000000000000000000000000000000000000000000000000000000000000000000000000000000000000000000000000000000000000000000000000000000000000000000000000000000000000000000000000000000000000000000000000000000000000000000000000000000000000000000000000000000000000000000000000000000000000000000000000000000000000000000000000000000000000000000000000000000000000000000000000000000000000000000000000000000000000000000000000000000000000000000000000000000000000000000000000000000000000000000000000000000000000000000000000000000000000000000000000000000000000000000000000000000000000000000000000000000000000000000000000000000000000000000000000000000000000000000000000000000000000000000000000000000000000000000000000000000000000000000000000000000000000000000000000000000000000000000000000000000000000000000000000000000000000000000000000000000000000000000000000000000000000000000000000000000000000000000000000000000000000000000000000000000000000000000000000000000000000000000000000000000000000000000000000\n",
      "  After, the hll is - 0008000000000000000000000000000000000000000000000000000000000000000000000000000000000000000000000000000000000000000000000000000000000000000000000000000000000000000000000000000000000000000000000000000000000000000000000000000000000000000000000000000000000000000000000000000000000000000000000000000000000000000000000000000000000000000000000000000000000000000000000000000000000000000000000000000000000000000000\n"
     ]
    }
   ],
   "source": [
    "import com.aerospike.client.operation.HLLOperation;\n",
    "import com.aerospike.client.operation.HLLPolicy;\n",
    "\n",
    "HLLPolicy defHLLPolicy = new HLLPolicy();\n",
    "Integer bitsHLLIndex = 8;\n",
    "\n",
    "Key key = new Key(txnNamespace, txnSet, theKey);\n",
    "Record record = client.get(client.writePolicyDefault, key);\n",
    "client.operate(client.writePolicyDefault, key, \n",
    "    HLLOperation.init(defHLLPolicy, txnHLLBin, bitsHLLIndex)\n",
    ");\n",
    "Record after = client.get(client.writePolicyDefault, key);\n",
    "\n",
    "System.out.println(\"Before, the \" + txnHLLBin + \" was - \" + record.getValue(txnHLLBin));\n",
    "System.out.println(\"  After, the \" + txnHLLBin + \" is - \" + after.getValue(txnHLLBin));"
   ]
  },
  {
   "cell_type": "markdown",
   "id": "chemical-arlington",
   "metadata": {},
   "source": [
    "### Operating on Lists\n",
    "\n",
    "For a tutorial on [working with lists](java-working_with_lists.ipynb), go [here]((java-working_with_lists.ipynb)).\n",
    "\n",
    "For more information on [ListOperations](https://www.aerospike.com/apidocs/java/com/aerospike/client/cdt/ListOperation.html), go [here](https://www.aerospike.com/apidocs/java/com/aerospike/client/cdt/ListOperation.html)."
   ]
  },
  {
   "cell_type": "code",
   "execution_count": null,
   "id": "nearby-alexander",
   "metadata": {},
   "outputs": [],
   "source": []
  },
  {
   "cell_type": "markdown",
   "id": "naked-responsibility",
   "metadata": {},
   "source": [
    "### Operating on Maps\n",
    "\n",
    "For a tutorial on [working with maps](java-working_with_maps.ipynb), go [here]((java-working_with_maps.ipynb)).\n",
    "\n",
    "For more information on [Map Operations](https://www.aerospike.com/apidocs/java/com/aerospike/client/cdt/MapOperation.html), go [here](https://www.aerospike.com/apidocs/java/com/aerospike/client/cdt/MapOperation.html)."
   ]
  },
  {
   "cell_type": "code",
   "execution_count": null,
   "id": "completed-penguin",
   "metadata": {},
   "outputs": [],
   "source": []
  },
  {
   "cell_type": "markdown",
   "id": "english-cosmetic",
   "metadata": {},
   "source": [
    "### Operating on GeoJSON\n"
   ]
  },
  {
   "cell_type": "code",
   "execution_count": null,
   "id": "brown-innocent",
   "metadata": {},
   "outputs": [],
   "source": []
  },
  {
   "cell_type": "markdown",
   "id": "configured-access",
   "metadata": {},
   "source": []
  },
  {
   "cell_type": "markdown",
   "id": "placed-found",
   "metadata": {},
   "source": [
    "## Performing a Simple Transaction on a Record\n",
    "\n",
    "Write operations provide *policy* to govern how to behave when data does or does not exist, and they do not provide broader conditional logic. If a process requires additional conditional logic between operations, the practice is to use another technique, such as Lua-based **UDFs**.   \n",
    "\n",
    "For information on [UDFs](https://www.aerospike.com/docs/udf/udf_guide.html), go [here](https://www.aerospike.com/docs/udf/udf_guide.html)."
   ]
  },
  {
   "cell_type": "markdown",
   "id": "faced-chrome",
   "metadata": {},
   "source": [
    "### Execute All of the Previous Operations as a Transaction"
   ]
  },
  {
   "cell_type": "code",
   "execution_count": null,
   "id": "caroline-orleans",
   "metadata": {},
   "outputs": [],
   "source": [
    "import com.aerospike.client.Operation;\n",
    "\n",
    "Key key = new Key(txnNamespace, txnSet, theKey);\n",
    "Record record = client.get(client.writePolicyDefault, key);\n",
    "\n",
    "String txnAppendString = \"-transactions\";\n",
    "bin0 = new Bin(txnStringBin, txnAppendString);\n",
    "\n",
    "Record appendString = client.operate(client.writePolicyDefault, key,\n",
    "    Operation.append(bin0)\n",
    ");\n",
    "Record after = client.get(client.writePolicyDefault, key);\n",
    "\n",
    "System.out.println(appendString);\n",
    "System.out.println(after);"
   ]
  },
  {
   "cell_type": "code",
   "execution_count": null,
   "id": "tired-shelf",
   "metadata": {},
   "outputs": [],
   "source": []
  },
  {
   "cell_type": "code",
   "execution_count": null,
   "id": "confirmed-decision",
   "metadata": {},
   "outputs": [],
   "source": []
  },
  {
   "cell_type": "markdown",
   "id": "outdoor-folder",
   "metadata": {},
   "source": [
    "## DELETING the Records and Closing Server Connection"
   ]
  },
  {
   "cell_type": "markdown",
   "id": "sublime-relay",
   "metadata": {},
   "source": [
    "### Delete the Record from Aerospike\n",
    "\n",
    "Use the **asinfo** administration tool to drop the index containing our list data."
   ]
  },
  {
   "cell_type": "code",
   "execution_count": null,
   "id": "amber-denver",
   "metadata": {},
   "outputs": [],
   "source": [
    "%sh asinfo -v \"truncate:namespace=test;set=txnset;\"\n",
    "System.out.println(\"Record deleted.\");"
   ]
  },
  {
   "cell_type": "markdown",
   "id": "impressive-cross",
   "metadata": {},
   "source": [
    "### Close the Connection to Aerospike"
   ]
  },
  {
   "cell_type": "code",
   "execution_count": null,
   "id": "mechanical-cloud",
   "metadata": {},
   "outputs": [],
   "source": [
    "client.close();\n",
    "System.out.println(\"Server connection closed.\");"
   ]
  },
  {
   "cell_type": "markdown",
   "id": "expanded-freeze",
   "metadata": {},
   "source": []
  },
  {
   "cell_type": "markdown",
   "id": "communist-choir",
   "metadata": {},
   "source": [
    "## Next Steps "
   ]
  },
  {
   "cell_type": "markdown",
   "id": "neural-penalty",
   "metadata": {},
   "source": [
    "### UDFs,  Batches, and Scans"
   ]
  },
  {
   "cell_type": "markdown",
   "id": "color-wound",
   "metadata": {},
   "source": []
  },
  {
   "cell_type": "markdown",
   "id": "specialized-challenge",
   "metadata": {},
   "source": []
  },
  {
   "cell_type": "markdown",
   "id": "specialized-wagon",
   "metadata": {},
   "source": []
  },
  {
   "cell_type": "markdown",
   "id": "western-startup",
   "metadata": {},
   "source": []
  },
  {
   "cell_type": "markdown",
   "id": "handy-photograph",
   "metadata": {},
   "source": []
  },
  {
   "cell_type": "markdown",
   "id": "compressed-flooring",
   "metadata": {},
   "source": []
  },
  {
   "cell_type": "markdown",
   "id": "beginning-basket",
   "metadata": {},
   "source": []
  },
  {
   "cell_type": "markdown",
   "id": "turned-relation",
   "metadata": {},
   "source": []
  },
  {
   "cell_type": "markdown",
   "id": "green-endorsement",
   "metadata": {},
   "source": []
  }
 ],
 "metadata": {
  "kernelspec": {
   "display_name": "Java",
   "language": "java",
   "name": "java"
  },
  "language_info": {
   "codemirror_mode": "java",
   "file_extension": ".jshell",
   "mimetype": "text/x-java-source",
   "name": "Java",
   "pygments_lexer": "java",
   "version": "11.0.8+10-LTS"
  },
  "toc": {
   "base_numbering": 1,
   "nav_menu": {},
   "number_sections": true,
   "sideBar": true,
   "skip_h1_title": false,
   "title_cell": "Table of Contents",
   "title_sidebar": "Contents",
   "toc_cell": false,
   "toc_position": {},
   "toc_section_display": true,
   "toc_window_display": false
  }
 },
 "nbformat": 4,
 "nbformat_minor": 5
}
