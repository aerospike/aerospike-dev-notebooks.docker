{
 "cells": [
  {
   "cell_type": "markdown",
   "id": "heavy-playing",
   "metadata": {},
   "source": [
    "# Ordering Lists and Maps\n",
    "\n",
    "Given that each record in Aerospike adds a significant number of bytes to the index, the intuition is to store maps and lists of data – documents of data – rather than individual values.  \n",
    "\n",
    "Aerospike provides an intuitive order to the natural chaos of document-oriented data. This notebook shares how Aerospike facilitates working with document-oriented data, covering the following topics:\n",
    "* Ordering\n",
    "* Value Comparisons\n",
    "* Intervals"
   ]
  },
  {
   "cell_type": "markdown",
   "id": "swedish-sight",
   "metadata": {},
   "source": [
    "# Aerospike Server Optionally Maintains Data in Order\n",
    "\n",
    "As you will see, storing sorted data does not benefit every application.  "
   ]
  },
  {
   "cell_type": "markdown",
   "id": "enclosed-texas",
   "metadata": {},
   "source": [
    "## Unordered Data – Putting Data into Aerospike Preserves Order\n",
    "\n",
    "Putting a list or map into Aerospike as *unordered* preserves the original order. This order can be accessed by index operations, and is maintained by adding new data using *append*. Inserting new data by index, inserts before a preexisting item and increments the index for the preexisting item and subsequent items."
   ]
  },
  {
   "cell_type": "markdown",
   "id": "mighty-forestry",
   "metadata": {},
   "source": [
    "## Order the Map or List Upon Creation\n",
    "\n",
    "If ordering a map or list, the best practice is to order it upon creation.\n",
    "\n",
    "Unordered – \\[ 1, 4, 7, 3, 9, 26, 11\\]\n",
    "\n",
    "Ordered – \\[ 1, 3, 4, 7, 9, 11, 26\\]"
   ]
  },
  {
   "cell_type": "code",
   "execution_count": null,
   "id": "simplified-suffering",
   "metadata": {},
   "outputs": [],
   "source": []
  },
  {
   "cell_type": "markdown",
   "id": "interested-wallet",
   "metadata": {},
   "source": [
    "## Order Can Be Applied Later\n",
    "\n",
    "If not ordered upon creation, it can be done at any time. Best practice is not to  \n",
    "\n",
    "Use append to add to an ordered list.  "
   ]
  },
  {
   "cell_type": "code",
   "execution_count": null,
   "id": "passive-vertical",
   "metadata": {},
   "outputs": [],
   "source": []
  },
  {
   "cell_type": "markdown",
   "id": "equivalent-better",
   "metadata": {},
   "source": [
    "# Aerospike Clients Provide JIT Ordering\n",
    "\n",
    "Aerospike Client operations access data in lists or maps by index or rank order. This allows access by order of insertion or by data that was sorted on-the-fly."
   ]
  },
  {
   "cell_type": "markdown",
   "id": "informal-orbit",
   "metadata": {},
   "source": [
    "## Rank Operations Sort All Data Types\n",
    "\n",
    "Rank operations order and return data from Aerospike. Rather than just order numbers or strings, there is a comprehensive order of all data types: \n",
    "\n",
    "1.\tNIL\n",
    "2.\tBoolean (Reserved for the future.)\n",
    "3.\tInteger\n",
    "4.\tString\n",
    "5.\tList\n",
    "6.\tMap\n",
    "7.\tBytes\n",
    "8. \tDouble\n",
    "9.\tGeoJSON\n",
    "10.\tINF\n",
    "\n",
    "Elements of type are ordered by type. For more information on the order of [data types](https://aerospike.com/docs/guide/cdt-ordering.html), go [here](https://aerospike.com/docs/guide/cdt-ordering.html).\n",
    "\n",
    "Here's how you use them."
   ]
  },
  {
   "cell_type": "markdown",
   "id": "frozen-andrews",
   "metadata": {},
   "source": [
    "### Using Rank Operations on Lists"
   ]
  },
  {
   "cell_type": "markdown",
   "id": "annual-synthesis",
   "metadata": {},
   "source": [
    "#### Create a List\n",
    "\n",
    "\\['c', 3, 26, \\[25, 'y', 1\\], 11, 9, 4, 'a', 1, 7\\]"
   ]
  },
  {
   "cell_type": "code",
   "execution_count": null,
   "id": "continuous-specialist",
   "metadata": {},
   "outputs": [],
   "source": []
  },
  {
   "cell_type": "markdown",
   "id": "motivated-appearance",
   "metadata": {},
   "source": [
    "#### Put the List into Aerospike as Ordered and Unordered"
   ]
  },
  {
   "cell_type": "code",
   "execution_count": null,
   "id": "suspected-calvin",
   "metadata": {},
   "outputs": [],
   "source": []
  },
  {
   "cell_type": "markdown",
   "id": "transparent-tourist",
   "metadata": {},
   "source": [
    "#### What is the range of elements between NIL and 10?"
   ]
  },
  {
   "cell_type": "code",
   "execution_count": null,
   "id": "danish-signal",
   "metadata": {},
   "outputs": [],
   "source": []
  },
  {
   "cell_type": "markdown",
   "id": "animal-tyler",
   "metadata": {},
   "source": [
    "#### What is the range of elements between 'a' and \\[ \\]?"
   ]
  },
  {
   "cell_type": "code",
   "execution_count": null,
   "id": "combined-platform",
   "metadata": {},
   "outputs": [],
   "source": []
  },
  {
   "cell_type": "markdown",
   "id": "aggressive-anthropology",
   "metadata": {},
   "source": [
    "#### What is the range of elements between \\[ \\] and INF?"
   ]
  },
  {
   "cell_type": "code",
   "execution_count": null,
   "id": "comparable-guest",
   "metadata": {},
   "outputs": [],
   "source": []
  },
  {
   "cell_type": "markdown",
   "id": "educated-rebate",
   "metadata": {},
   "source": [
    "### Rank Works Reliably Independent of List Ordering\n",
    "\n",
    "As demonstrated above, rank works identically, no matter whether the list is ordered or not."
   ]
  },
  {
   "cell_type": "markdown",
   "id": "several-gender",
   "metadata": {},
   "source": [
    "### Using Rank on Lists of Lists\n",
    "\n",
    "Ordering lists containing sublists and maps works intuitively and differently from simple lists.\n",
    "\n",
    "1. Sublists are not sorted upon addition.\n",
    "2. Items are compared index-by-index starting with the first (0th) index. \n",
    "3. Greater List length results in higher rank \n",
    "\n",
    "Here are some examples."
   ]
  },
  {
   "cell_type": "markdown",
   "id": "residential-monroe",
   "metadata": {},
   "source": [
    "#### Create a Sorted Empty List"
   ]
  },
  {
   "cell_type": "code",
   "execution_count": null,
   "id": "selective-scene",
   "metadata": {},
   "outputs": [],
   "source": []
  },
  {
   "cell_type": "markdown",
   "id": "talented-bumper",
   "metadata": {},
   "source": [
    "#### Add  \\[1, 1\\]"
   ]
  },
  {
   "cell_type": "code",
   "execution_count": null,
   "id": "consecutive-covering",
   "metadata": {},
   "outputs": [],
   "source": []
  },
  {
   "cell_type": "markdown",
   "id": "aging-compilation",
   "metadata": {},
   "source": [
    "#### Add  \\[1, 3\\]"
   ]
  },
  {
   "cell_type": "code",
   "execution_count": null,
   "id": "controversial-findings",
   "metadata": {},
   "outputs": [],
   "source": []
  },
  {
   "cell_type": "markdown",
   "id": "operating-coaching",
   "metadata": {},
   "source": [
    "#### Add  \\[1, 2, 0, 1\\]"
   ]
  },
  {
   "cell_type": "code",
   "execution_count": null,
   "id": "genetic-thomas",
   "metadata": {},
   "outputs": [],
   "source": []
  },
  {
   "cell_type": "markdown",
   "id": "infrared-plate",
   "metadata": {},
   "source": [
    "#### Add  \\[1, 2\\]"
   ]
  },
  {
   "cell_type": "code",
   "execution_count": null,
   "id": "cloudy-ratio",
   "metadata": {},
   "outputs": [],
   "source": []
  },
  {
   "cell_type": "markdown",
   "id": "tropical-logan",
   "metadata": {},
   "source": [
    "# Intervals \n",
    "\n",
    "Interval operations deliver parts of a JIT-ordered list, whether or not the data is sorted. Intervals use the same consistent sort order across data types as rank:\n",
    "* \\[2, NIL\\] is to the right of anything \\[1, ...\\], regardless of element count.\n",
    "* \\[1, INF\\] is to the left of anything \\[1, ...\\] and to the right of anything \\[2, ...\\].\n",
    "\n",
    "The value is in using lists as a lightweight record structure, which can be queried by interval."
   ]
  },
  {
   "cell_type": "markdown",
   "id": "improving-finland",
   "metadata": {},
   "source": [
    "## Interval Examples\n",
    "\n",
    "Here are "
   ]
  },
  {
   "cell_type": "markdown",
   "id": "happy-death",
   "metadata": {},
   "source": [
    "# Takeaway – Choose Whether To Sort by Read/Write Patterns\n",
    "\n",
    "As demonstrated, the results are the same whether the data is stored ordered or unordered in the database. The question becomes, \"Whether using ordered or unordered data benefits application patterns of reads and writes."
   ]
  },
  {
   "cell_type": "markdown",
   "id": "announced-robin",
   "metadata": {},
   "source": [
    "### Aerospike Provides the Order of Algorithms Used\n",
    "\n",
    "Aerospike recommends architecting for efficiency, this depends on knowledge of the **Order** of each operation. "
   ]
  },
  {
   "cell_type": "markdown",
   "id": "unexpected-iraqi",
   "metadata": {},
   "source": []
  },
  {
   "cell_type": "markdown",
   "id": "specific-overview",
   "metadata": {},
   "source": []
  },
  {
   "cell_type": "markdown",
   "id": "laughing-character",
   "metadata": {},
   "source": []
  },
  {
   "cell_type": "markdown",
   "id": "pacific-rover",
   "metadata": {},
   "source": []
  },
  {
   "cell_type": "markdown",
   "id": "indian-harassment",
   "metadata": {},
   "source": []
  },
  {
   "cell_type": "markdown",
   "id": "completed-shark",
   "metadata": {},
   "source": []
  },
  {
   "cell_type": "markdown",
   "id": "informed-butler",
   "metadata": {},
   "source": []
  },
  {
   "cell_type": "markdown",
   "id": "foster-stage",
   "metadata": {},
   "source": []
  },
  {
   "cell_type": "markdown",
   "id": "sufficient-pollution",
   "metadata": {},
   "source": []
  },
  {
   "cell_type": "markdown",
   "id": "protected-ethiopia",
   "metadata": {},
   "source": []
  },
  {
   "cell_type": "markdown",
   "id": "furnished-senegal",
   "metadata": {},
   "source": []
  },
  {
   "cell_type": "markdown",
   "id": "considered-accused",
   "metadata": {},
   "source": []
  },
  {
   "cell_type": "markdown",
   "id": "veterinary-filling",
   "metadata": {},
   "source": []
  }
 ],
 "metadata": {
  "kernelspec": {
   "display_name": "Java",
   "language": "java",
   "name": "java"
  },
  "language_info": {
   "codemirror_mode": "java",
   "file_extension": ".jshell",
   "mimetype": "text/x-java-source",
   "name": "Java",
   "pygments_lexer": "java",
   "version": "11.0.8+10-LTS"
  },
  "toc": {
   "base_numbering": 1,
   "nav_menu": {},
   "number_sections": true,
   "sideBar": true,
   "skip_h1_title": false,
   "title_cell": "Table of Contents",
   "title_sidebar": "Contents",
   "toc_cell": false,
   "toc_position": {},
   "toc_section_display": true,
   "toc_window_display": false
  }
 },
 "nbformat": 4,
 "nbformat_minor": 5
}
