{
 "cells": [
  {
   "cell_type": "markdown",
   "id": "afraid-placement",
   "metadata": {},
   "source": [
    "# Aerospike Java Client – Data Modeling 101\n",
    "\n",
    "The goal of this tutorial is to explain basic intuitions about modeling with Aerospike.\n",
    "The key to getting the most out of Aerospike is to find the right way to match an application’s data model to Aerospike’s data model.\n",
    "\n",
    "This notebook contains:\n",
    "* A modeling-oriented overview of Aerospike’s architecture.\n",
    "* Questions about an application to help determine how to align to Aerospike’s data model and/or data types. \n",
    "* Simple example API calls associated with each.\n",
    "\n",
    "This notebook does not include:\n",
    "* Discussion of Normalizing and Denormalizing Data.\n",
    "* Detailed examples for each data model or data type.\n",
    "* Techniques for efficient reads or updates.\n",
    "\n",
    "Other tutorials will focus on these facets of modeling in more detail.\n",
    "\n",
    "This [Jupyter Notebook](https://jupyter-notebook.readthedocs.io/en/stable/notebook.html) requires the Aerospike Database running locally with Java kernel and Aerospike Java Client. To create a Docker container that satisfies the requirements and holds a copy of these notebooks, visit the [Aerospike Notebooks Repo](https://github.com/aerospike/aerospike-dev-notebooks.docker)."
   ]
  },
  {
   "cell_type": "markdown",
   "id": "billion-cooperative",
   "metadata": {
    "heading_collapsed": true
   },
   "source": [
    "## Notebook Setup"
   ]
  },
  {
   "cell_type": "markdown",
   "id": "flying-accuracy",
   "metadata": {
    "hidden": true
   },
   "source": [
    "### Import Jupyter Java Integration \n",
    "\n",
    "Make it easier to work with Java in Jupyter."
   ]
  },
  {
   "cell_type": "code",
   "execution_count": 1,
   "id": "cleared-million",
   "metadata": {
    "hidden": true
   },
   "outputs": [],
   "source": [
    "import io.github.spencerpark.ijava.IJava;\n",
    "import io.github.spencerpark.jupyter.kernel.magic.common.Shell;\n",
    "\n",
    "IJava.getKernelInstance().getMagics().registerMagics(Shell.class);"
   ]
  },
  {
   "cell_type": "markdown",
   "id": "lovely-driving",
   "metadata": {
    "hidden": true
   },
   "source": [
    "### Start Aerospike\n",
    "\n",
    "Ensure Aerospike Database is running locally."
   ]
  },
  {
   "cell_type": "code",
   "execution_count": 2,
   "id": "weekly-palmer",
   "metadata": {
    "hidden": true
   },
   "outputs": [],
   "source": [
    "%sh asd"
   ]
  },
  {
   "cell_type": "markdown",
   "id": "insured-baptist",
   "metadata": {
    "hidden": true
   },
   "source": [
    "### Download the Aerospike Java Client\n",
    "\n",
    "Ask Maven to download and install the project object model (POM) of the Aerospike Java Client."
   ]
  },
  {
   "cell_type": "code",
   "execution_count": 3,
   "id": "active-potato",
   "metadata": {
    "hidden": true
   },
   "outputs": [],
   "source": [
    "%%loadFromPOM\n",
    "<dependencies>\n",
    "  <dependency>\n",
    "    <groupId>com.aerospike</groupId>\n",
    "    <artifactId>aerospike-client</artifactId>\n",
    "    <version>5.0.0</version>\n",
    "  </dependency>\n",
    "</dependencies>"
   ]
  },
  {
   "cell_type": "markdown",
   "id": "italic-configuration",
   "metadata": {
    "hidden": true
   },
   "source": [
    "### Start the Aerospike Java Client and Connect\n",
    "\n",
    "Create an instance of the Aerospike Java Client, and connect to the demo cluster.\n",
    "\n",
    "The default cluster location for the Docker container is *localhost* port *3000*. If your cluster is not running on your local machine, modify *localhost* and *3000* to the values for your Aerospike cluster."
   ]
  },
  {
   "cell_type": "code",
   "execution_count": 4,
   "id": "happy-dietary",
   "metadata": {
    "hidden": true
   },
   "outputs": [
    {
     "name": "stdout",
     "output_type": "stream",
     "text": [
      "Initialized the client and connected to the cluster.\n"
     ]
    }
   ],
   "source": [
    "import com.aerospike.client.AerospikeClient;\n",
    "\n",
    "AerospikeClient client = new AerospikeClient(\"localhost\", 3000);\n",
    "System.out.println(\"Initialized the client and connected to the cluster.\");"
   ]
  },
  {
   "cell_type": "markdown",
   "id": "fitted-anthony",
   "metadata": {},
   "source": [
    "## A KV Store with Deliberate Structure\n",
    "\n",
    "Aerospike differentiates from other Key-Value Stores through its architecture and the consequential structure and tools it provides. One can throw documents of data at Aerospike and achieve some performance to keep up with most applications. However, when applications must achieve high performance at scale, expert use of Aerospike provides those results. Those successful outcomes are due to the structure that other Key-Value Stores do not provide. "
   ]
  },
  {
   "cell_type": "markdown",
   "id": "owned-chuck",
   "metadata": {},
   "source": [
    "### Aerospike Uses All Storage Media Types to Achieve High Performance \n",
    "\n",
    "Aerospike was architected to efficiently store document-oriented data.\n",
    "Priorities:\n",
    "* Efficient parallel use of all of a machine’s storage media, especially flash storage (SSD, PCIe, NVMe).\n",
    "* Reads with sub-millisecond latencies at very high throughput (100K to 1M), while under a heavy write load.\n",
    "\n",
    "The Aerospike data model is a direct result of these priorities. \n"
   ]
  },
  {
   "cell_type": "markdown",
   "id": "outer-advance",
   "metadata": {},
   "source": [
    "### Schema-less Relational Database\n",
    "\n",
    "The pieces of the Aerospike data model can be thought of as a mirror of the anatomy of a relational database.\n",
    "* Namespace → Relational Database\n",
    "* Primary Index → Primary Index\n",
    "* Set → Table\n",
    "* Record → Database Row\n",
    "* Bin → Field\n",
    "\n",
    "However, despite the similarities to their RDBMS counterpart, each of these has a well-defined purpose and characteristics that make each scale differently. "
   ]
  },
  {
   "cell_type": "markdown",
   "id": "intermediate-tribune",
   "metadata": {},
   "source": [
    "## Match App Data Model Elements to Aerospike's Model\n",
    "\n",
    "The best practice is to consider the dimensions along which the application data must scale and to match its data model elements to the Aerospike data model elements. Because of Aerospike’s focus on scalability, a proper matching will result in highly performant app scalability.\n",
    "\n",
    "To accomplish this, first, learn about the elements of the Aerospike Data Model."
   ]
  },
  {
   "cell_type": "markdown",
   "id": "cubic-chicken",
   "metadata": {},
   "source": [
    "## Elements of the Aerospike Data Model\n",
    "\n",
    "The following are the elements of the [Aerospike Data Model](https://www.aerospike.com/docs/architecture/data-model.html): \n",
    "* Namespace and Primary Index\n",
    "* Set\n",
    "* Key and Digest\n",
    "* Record\n",
    "* Bin\n",
    "    * Collection Data Types\n",
    "        * List\n",
    "        * Map\n",
    "\n",
    "At low read and write volumes, the above may seem like unnecessary complexity. However, as the application scales, the structure provided by the Aerospike data model allows Aerospike to be used surgically at petabyte scale more efficiently by (ROI x Performance) than most varieties of database product.\n",
    "\n",
    "The following sections share modeling-related details and API code for working with those elements."
   ]
  },
  {
   "cell_type": "markdown",
   "id": "refined-cycling",
   "metadata": {},
   "source": [
    "### Namespace and Primary Index\n",
    "The **Namespace** is a server configuration. It associates index and data with related storage media. Because each type of data in a data model has different read/write profile demands, it is common to divide further. For example, data for an ecommerce app might store the hottest sales items in RAM, where the rest are stored in Flash. \n",
    "\n",
    "Each Aerospike server in a cluster has a **Primary Index** per namespace detailing the location of all records in all storage media on the node. Within the index, each record has a substantial footprint per record – 64 bytes. By option, the index can contain record data instead of data location."
   ]
  },
  {
   "cell_type": "markdown",
   "id": "public-editor",
   "metadata": {},
   "source": [
    "### Set\n",
    "\n",
    "The **Set** is a client configuration representing an optional segment of a Namespace.\n",
    "A set facilitates easy reads and deletes."
   ]
  },
  {
   "cell_type": "markdown",
   "id": "wound-america",
   "metadata": {},
   "source": [
    "### Key and Digest\n",
    "A **Record** is uniquely identified by a namespace and **Digest**. The digest is a client-generated RIPEMD-160 20-Byte hash of the set name and the user key. The digest can be optionally stored in the Aerospike Database."
   ]
  },
  {
   "cell_type": "markdown",
   "id": "sudden-registrar",
   "metadata": {},
   "source": [
    "### Creating a Key using Namespace Set and User Key\n",
    "\n",
    "The following is Java Client code to create a key using the namespace, set, and user key."
   ]
  },
  {
   "cell_type": "code",
   "execution_count": 5,
   "id": "impaired-month",
   "metadata": {},
   "outputs": [
    {
     "name": "stdout",
     "output_type": "stream",
     "text": [
      "Key created.\n"
     ]
    }
   ],
   "source": [
    "import com.aerospike.client.Key;\n",
    "\n",
    "String namespaceName = \"test\";\n",
    "String setName = \"dm101set\";\n",
    "\n",
    "Integer theKey = 0;  // A key can be any value.\n",
    "\n",
    "Key key = new Key(namespaceName, setName, theKey);\n",
    "System.out.println(\"Key created.\" );"
   ]
  },
  {
   "cell_type": "markdown",
   "id": "neither-guest",
   "metadata": {},
   "source": [
    "### Record\n",
    "\n",
    "Aerospike offers a type of record-level *ACID-compliance*. That is, Aerospike allows execution of multiple record-operations as one atomic transaction. \n",
    "\n",
    "The structure of a record is a Map containing:\n",
    "* Metadata\n",
    "   * Expiration\n",
    "   * Last Update Time\n",
    "   * Generation Counter\n",
    "* Map of Bins"
   ]
  },
  {
   "cell_type": "markdown",
   "id": "pending-beverage",
   "metadata": {},
   "source": [
    "### Bin\n",
    "A **Bin** is a flexible container that contains data of one type. That type can be either a scalar or a collection data type, however a bin's data type is not formally declared.\n",
    "When applying one or more operations to a record as a transaction, Aerospike returns all return values per bin. A bin can be the unit of data replication across an Aerospike cluster. The bin name is stored in the Aerospike Database."
   ]
  },
  {
   "cell_type": "markdown",
   "id": "balanced-southwest",
   "metadata": {},
   "source": [
    "### Creating a Simple Record Containing An Integer and A String Bin\n",
    "\n",
    "The following is Java client code uses the key created above to put integer and string data into a record in Aerospike. "
   ]
  },
  {
   "cell_type": "code",
   "execution_count": 6,
   "id": "verified-blind",
   "metadata": {},
   "outputs": [
    {
     "name": "stdout",
     "output_type": "stream",
     "text": [
      "Put data into Aerospike: str=modeling, int=8\n"
     ]
    }
   ],
   "source": [
    "import com.aerospike.client.Bin;\n",
    "import com.aerospike.client.policy.ClientPolicy;\n",
    "\n",
    "\n",
    "String aString = \"modeling\";\n",
    "Integer anInteger = 8;\n",
    "\n",
    "String stringBinName = \"str\";\n",
    "String integerBinName = \"int\";\n",
    "ClientPolicy clientPolicy = new ClientPolicy();\n",
    "\n",
    "Bin bin0 = new Bin(stringBinName, aString);\n",
    "Bin bin1 = new Bin(integerBinName, anInteger);\n",
    "\n",
    "client.put(clientPolicy.writePolicyDefault, key, bin0, bin1);\n",
    "\n",
    "System.out.println(\"Put data into Aerospike: \" + stringBinName + \"=\" + aString + \", \" + integerBinName + \"=\" + anInteger);"
   ]
  },
  {
   "cell_type": "markdown",
   "id": "turkish-lodge",
   "metadata": {},
   "source": [
    "### Reading the Record\n",
    "\n",
    "Uses the same key to read the record."
   ]
  },
  {
   "cell_type": "code",
   "execution_count": 7,
   "id": "powered-score",
   "metadata": {},
   "outputs": [
    {
     "name": "stdout",
     "output_type": "stream",
     "text": [
      "Generation count: 1\n",
      "Record expiration: 359403813\n",
      "Bins: {str=modeling, int=8}\n"
     ]
    }
   ],
   "source": [
    "import com.aerospike.client.Record;\n",
    "\n",
    "Record record = client.get(null, key);\n",
    "System.out.println(\"Generation count: \" + record.generation);\n",
    "System.out.println(\"Record expiration: \" + record.expiration);\n",
    "System.out.println(\"Bins: \" + record.bins);"
   ]
  },
  {
   "cell_type": "markdown",
   "id": "abroad-tobago",
   "metadata": {},
   "source": [
    "### Collection Data Types\n",
    "\n",
    "Lists and maps are **Collection Data Types (CDTs)**. These are flexible, schema-less data types that can contain nested scalar data and/or nested collection data types. For data efficiency, lists are frequently used to create [tuples](https://en.wikipedia.org/wiki/Tuple), a lightweight record structure using position instead of field names. \n",
    "\n",
    "Maps are commonly used JSON-like data structures. Because a Bin can contain a scalar data type or collection data type, a common question to consider when creating a data model is whether to store a level of record data in one bin containing a CDT or multiple bins.  "
   ]
  },
  {
   "cell_type": "markdown",
   "id": "streaming-noise",
   "metadata": {},
   "source": [
    "#### Lists\n",
    "\n",
    "Create a tuple and put it in Aerospike."
   ]
  },
  {
   "cell_type": "code",
   "execution_count": 8,
   "id": "assumed-bacon",
   "metadata": {},
   "outputs": [
    {
     "name": "stdout",
     "output_type": "stream",
     "text": [
      "Put data into Aerospike: tuple=[9.92, Carl Lewis, Seoul, South Korea, September 24, 1988]\n",
      "After operation, Bins: {str=modeling, int=8, tuple=[9.92, Carl Lewis, Seoul, South Korea, September 24, 1988]}\n",
      "tuple: [9.92, Carl Lewis, Seoul, South Korea, September 24, 1988]\n"
     ]
    }
   ],
   "source": [
    "import com.aerospike.client.Value;\n",
    "\n",
    "import java.util.ArrayList;\n",
    "import java.util.Arrays;\n",
    "import java.util.List;\n",
    "import java.util.Map;\n",
    "\n",
    "ArrayList<Value> aTuple = new ArrayList<Value>();\n",
    "aTuple.add(Value.get(9.92));\n",
    "aTuple.add(Value.get(\"Carl Lewis\"));\n",
    "aTuple.add(Value.get(\"Seoul, South Korea\"));\n",
    "aTuple.add(Value.get(\"September 24, 1988\"));\n",
    "\n",
    "String tupleBinName = \"tuple\";\n",
    "Bin bin2 = new Bin(tupleBinName, aTuple);\n",
    "\n",
    "client.put(clientPolicy.writePolicyDefault, key, bin2);\n",
    "Record record = client.get(null, key);\n",
    "\n",
    "System.out.println(\"Put data into Aerospike: \" + tupleBinName + \"=\" + aTuple);\n",
    "System.out.println(\"After operation, Bins: \" + record.bins);\n",
    "System.out.println( tupleBinName + \": \" + record.getValue(tupleBinName));"
   ]
  },
  {
   "cell_type": "markdown",
   "id": "independent-cancellation",
   "metadata": {},
   "source": [
    "#### Maps\n",
    "\n",
    "Rather than use a simple tuple, this model needs a map containing a list of Tuples. Reuse the  Tuple bin. "
   ]
  },
  {
   "cell_type": "code",
   "execution_count": 9,
   "id": "affecting-consciousness",
   "metadata": {},
   "outputs": [
    {
     "name": "stdout",
     "output_type": "stream",
     "text": [
      "After operation, tuple: {world-records=[[9.92, Carl Lewis, Seoul, South Korea, September 24, 1988]]}\n"
     ]
    }
   ],
   "source": [
    "import java.util.HashMap;\n",
    "\n",
    "String tupleMapKey = \"world-records\";\n",
    "ArrayList<Value> tupleList = new ArrayList<Value>();\n",
    "tupleList.add(Value.get(aTuple));\n",
    "HashMap <String, ArrayList> wrMap = new HashMap <String, ArrayList>();\n",
    "wrMap.put(tupleMapKey, tupleList);\n",
    "\n",
    "Bin bin2 = new Bin(tupleBinName, wrMap);\n",
    "\n",
    "client.put(clientPolicy.writePolicyDefault, key, bin2);\n",
    "Record record = client.get(null, key);\n",
    "    \n",
    "System.out.println(\"After operation, \" + tupleBinName + \": \" + record.getValue(tupleBinName));"
   ]
  },
  {
   "cell_type": "markdown",
   "id": "recent-jenny",
   "metadata": {},
   "source": [
    "## Distinguishing Questions\n",
    "\n",
    "From a modeling perspective, each Aerospike data model element is a potential mesh point with the application data model. The following questions instruct broadly how to fit them together. The *italic* text after the question explains the intuition to apply. "
   ]
  },
  {
   "cell_type": "markdown",
   "id": "confirmed-defensive",
   "metadata": {},
   "source": [
    "### Questions related to Storage Medium.\n",
    "\n",
    "**Q:** Does the application require a specific storage medium for a particular type of data, to achieve a necessary scale and frequency of reads or writes?\n",
    "\n",
    "*The easiest way to match data to hardware is to assign it to the right namespace. Namespaces associate index and data with storage media.*\n",
    "\n",
    "\n",
    "**Q:** Is there a class of data that is very small and with extremely frequent reads or writes?\n",
    "\n",
    "*Aerospike can store data in the index, instead of storing memory locations of the data.* "
   ]
  },
  {
   "cell_type": "markdown",
   "id": "acknowledged-tutorial",
   "metadata": {},
   "source": [
    "### Questions related to Reads\n",
    "**Q:** Is there a class of data where a large number of like application records are frerquently read by the application?\n",
    "\n",
    "*The fastest way to read a group of application records is either:*\n",
    "* *Scanning an Aerospike namespace or set of records.*\n",
    "* *Creating a secondary index and querying against that secondary index.*\n",
    "*At large scale, the time taken by parsing every record in a namespace as part of a scan is significant. It may be worthy of consideration when building an Aerospike data model.* \n",
    "\n",
    "**Q:** Are reads interspersed with writes as part of complex transactions on a record? Does the application require mid-transaction reads?\n",
    "Best practice is to store data operated on different threads of transaction work in separate bins. \n",
    "\n",
    "*When operating on a record, the Aerospike client returns a map of bins containing return values for each bin’s operations. These return values can be accessed by index, making transaction results easy to work with.*\n",
    "\n",
    "**Q:** Is the size of a set of application records small? (e.g., Closer to 1 MiB than it is to 1GiB?)\n",
    "\n",
    "*Consider storing the set of app records in one or more Aerospike records, rather than in a set or namespace of records.*\n",
    "\n",
    "\n",
    "**Q:** Is the timestamp when data is written a significant factor for data reads?\n",
    "\n",
    "*When data is large, appending a timestamp to a set name allows efficient reads. When data is small, consider appending a timestamp to a user key.*     \n",
    "\n",
    "\n",
    "**Q:** Does the application do more reads on the data than writes?\n",
    "\n",
    "*Common practice is to architect based on the highest volume activities. The common intuition is that if there are more reads than writes, then consider applying an sort order to the data, so it is returned to the client in a usable order.* \n"
   ]
  },
  {
   "cell_type": "markdown",
   "id": "therapeutic-server",
   "metadata": {},
   "source": [
    "### Questions related to Writes\n",
    "\n",
    "**Q:** Do writes occur grouped into transactions or are individual pieces of data updated one by one?\n",
    "\n",
    "*Aerospike provides simple record atomic transactions. Store data requiring atomic updates in one or more bins in the same Aerospike record, and use the Operate API to execute a multiple operation transaction. If updates occur element by element, data can be stored in one or more records, or in one or more bins of data.* \n",
    "\n",
    "**Q:** Does the application write data more frequently than data is read?\n",
    "\n",
    "*When an application writes data more frequently than it is read, consider not applying a server-side sort to the data. Aerospike's client will JIT sort the data on-demand.*"
   ]
  },
  {
   "cell_type": "markdown",
   "id": "unexpected-triangle",
   "metadata": {},
   "source": [
    "### Questions related to Deletes\n",
    "\n",
    "**Q:** What dimensions of the data model expand over time to the extent that they will need to be rotated out or dropped from the database?\n",
    "\n",
    "*The most efficient way to rotate data is to create and truncate sets.* "
   ]
  },
  {
   "cell_type": "markdown",
   "id": "waiting-import",
   "metadata": {},
   "source": [
    "### Questions related to Application Scale\n",
    "\n",
    "**Q:** Does your application volume result in sufficient scale that multiple servers routinely suffer simultaneous downtime for disrepair or service?\"\n",
    "\n",
    "*It is common for Aerospike clusters when the model is architected properly, to replace competing databases at a 1:5 (Aerospike:Other) ratio. When handling downtime, it will be important to configure whether Aerospike will run in AP mode or SC mode.*\n",
    "\n",
    "* **AP or Availability Mode** *– Priorizes data availability for reads over data replication.*\n",
    "* **SC or Strong Consistency Mode** *– Data replication across an Aerospike cluster can cause reads to fail.* \n",
    "\n",
    "[Go here](https://docs.aerospike.com/docs/architecture/consistency.html) for more information on Data Consistency."
   ]
  },
  {
   "cell_type": "markdown",
   "id": "grand-diagnosis",
   "metadata": {},
   "source": [
    "## DELETING the Records and Closing Server Connection"
   ]
  },
  {
   "cell_type": "markdown",
   "id": "registered-apparel",
   "metadata": {},
   "source": [
    "### Truncate the Set\n",
    "Truncate the set from the Aerospike Database."
   ]
  },
  {
   "cell_type": "code",
   "execution_count": 10,
   "id": "capital-tamil",
   "metadata": {},
   "outputs": [
    {
     "name": "stdout",
     "output_type": "stream",
     "text": [
      "Set Truncated.\n"
     ]
    }
   ],
   "source": [
    "import com.aerospike.client.policy.InfoPolicy;\n",
    "InfoPolicy infoPolicy = new InfoPolicy();\n",
    "\n",
    "client.truncate(infoPolicy, namespaceName, setName, null);\n",
    "System.out.println(\"Set Truncated.\");"
   ]
  },
  {
   "cell_type": "markdown",
   "id": "arctic-serial",
   "metadata": {},
   "source": [
    "### Close the Client connections to Aerospike"
   ]
  },
  {
   "cell_type": "code",
   "execution_count": 11,
   "id": "hungarian-tragedy",
   "metadata": {},
   "outputs": [
    {
     "name": "stdout",
     "output_type": "stream",
     "text": [
      "Server connection(s) closed.\n"
     ]
    }
   ],
   "source": [
    "client.close();\n",
    "System.out.println(\"Server connection(s) closed.\");"
   ]
  },
  {
   "cell_type": "markdown",
   "id": "consolidated-fifty",
   "metadata": {},
   "source": [
    "## Code Summary"
   ]
  },
  {
   "cell_type": "markdown",
   "id": "accredited-baking",
   "metadata": {},
   "source": [
    "### Overview\n",
    "Here is a collection of all of the non-Jupyter code from this tutorial.\n",
    "1. Import Java Libraries.\n",
    "2. Import Aerospike Client Libraries.\n",
    "3. Start the Aerospike Client.\n",
    "4. Create a Key using Namespace Set and User Key.\n",
    "5. Create Bins of Data.\n",
    "    1. String\n",
    "    2. Integer\n",
    "    3. List\n",
    "    4. Map\n",
    "6. Put Bins into an Aerospike Record.    \n",
    "7. Get the Record from Aerospike.\n",
    "8. Truncate the Set.\n",
    "9. Close Client Connections."
   ]
  },
  {
   "cell_type": "code",
   "execution_count": 12,
   "id": "caring-league",
   "metadata": {},
   "outputs": [
    {
     "name": "stdout",
     "output_type": "stream",
     "text": [
      "Initialized the client and connected to the cluster.\n",
      "Key created.\n",
      "Read from Aerospike –\n",
      "Generation count: 2\n",
      "Record expiration: 359403815\n",
      "int: 8\n",
      "str: modeling\n",
      "tuple: [9.92, Carl Lewis, Seoul, South Korea, September 24, 1988]\n",
      "maptuple: {world-records=[[9.92, Carl Lewis, Seoul, South Korea, September 24, 1988]]}\n",
      "Set Truncated.\n",
      "Server connection(s) closed.\n"
     ]
    }
   ],
   "source": [
    "// Import Java Libraries\n",
    "\n",
    "import java.util.ArrayList;\n",
    "import java.util.Arrays;\n",
    "import java.util.List;\n",
    "import java.util.Map;\n",
    "import java.util.HashMap;\n",
    "\n",
    "\n",
    "// Import Aerospike Client Libraries\n",
    "\n",
    "import com.aerospike.client.AerospikeClient;\n",
    "import com.aerospike.client.Key;\n",
    "import com.aerospike.client.Bin;\n",
    "import com.aerospike.client.policy.ClientPolicy;\n",
    "import com.aerospike.client.Value;\n",
    "import com.aerospike.client.Record;\n",
    "import com.aerospike.client.policy.InfoPolicy;\n",
    "InfoPolicy infoPolicy = new InfoPolicy();\n",
    "\n",
    "\n",
    "// Start the Aerospike Client.\n",
    "\n",
    "AerospikeClient client = new AerospikeClient(\"localhost\", 3000);\n",
    "System.out.println(\"Initialized the client and connected to the cluster.\");\n",
    "\n",
    "\n",
    "// Create a Key using Namespace Set and User Key\n",
    "\n",
    "String namespaceName = \"test\";\n",
    "String setName = \"dm101set\";\n",
    "\n",
    "Integer theKey = 0;  // A key can be any value.\n",
    "\n",
    "Key key = new Key(namespaceName, setName, theKey);\n",
    "System.out.println(\"Key created.\" );\n",
    "\n",
    "\n",
    "// Create Bins of Data.\n",
    "//    A. Integer\n",
    "\n",
    "Integer anInteger = 8;\n",
    "\n",
    "String integerBinName = \"int\";\n",
    "ClientPolicy clientPolicy = new ClientPolicy();\n",
    "\n",
    "Bin bin0 = new Bin(integerBinName, anInteger);\n",
    "\n",
    "\n",
    "//    B. String\n",
    "\n",
    "String aString = \"modeling\";\n",
    "\n",
    "String stringBinName = \"str\";\n",
    "\n",
    "Bin bin1 = new Bin(stringBinName, aString);\n",
    "\n",
    "\n",
    "//    C. List\n",
    "\n",
    "ArrayList<Value> aTuple = new ArrayList<Value>();\n",
    "aTuple.add(Value.get(9.92));\n",
    "aTuple.add(Value.get(\"Carl Lewis\"));\n",
    "aTuple.add(Value.get(\"Seoul, South Korea\"));\n",
    "aTuple.add(Value.get(\"September 24, 1988\"));\n",
    "\n",
    "String tupleBinName = \"tuple\";\n",
    "Bin bin2 = new Bin(tupleBinName, aTuple);\n",
    "\n",
    "client.put(clientPolicy.writePolicyDefault, key, bin2);\n",
    "\n",
    "\n",
    "//    D. Map\n",
    "\n",
    "String mapTupleBinName = \"maptuple\";\n",
    "\n",
    "String tupleMapKey = \"world-records\";\n",
    "ArrayList<Value> tupleList = new ArrayList<Value>();\n",
    "tupleList.add(Value.get(aTuple));\n",
    "HashMap <String, ArrayList> wrMap = new HashMap <String, ArrayList>();\n",
    "wrMap.put(tupleMapKey, tupleList);\n",
    "\n",
    "Bin bin3 = new Bin(mapTupleBinName, wrMap);\n",
    "\n",
    "\n",
    "// Put the Bins into Aerospike\n",
    "\n",
    "client.put(clientPolicy.writePolicyDefault, key, bin0, bin1, bin2, bin3);\n",
    "    \n",
    "\n",
    "// Get the Record from Aerospike.\n",
    "\n",
    "Record record = client.get(null, key);\n",
    "System.out.println(\"Read from Aerospike –\");\n",
    "System.out.println(\"Generation count: \" + record.generation);\n",
    "System.out.println(\"Record expiration: \" + record.expiration);\n",
    "System.out.println( integerBinName + \": \" + record.getValue(integerBinName));\n",
    "System.out.println( stringBinName + \": \" + record.getValue(stringBinName));\n",
    "System.out.println( tupleBinName + \": \" + record.getValue(tupleBinName));\n",
    "System.out.println( mapTupleBinName + \": \" + record.getValue(mapTupleBinName));\n",
    "\n",
    "\n",
    "// Truncate the Set.\n",
    "\n",
    "client.truncate(infoPolicy, namespaceName, setName, null);\n",
    "System.out.println(\"Set Truncated.\");\n",
    "\n",
    "\n",
    "// Close Client Connections.\n",
    "\n",
    "client.close();\n",
    "System.out.println(\"Server connection(s) closed.\");"
   ]
  },
  {
   "cell_type": "markdown",
   "id": "established-spouse",
   "metadata": {},
   "source": [
    "## Data Modeling is an Art and a Science\n",
    "\n",
    "Data modeling with Aerospike is a science, but deep enough that it will seem like an art at first. An intuitive matching of data model elements Aerospike's elements will generally result in a successful application. \n",
    "\n",
    "When pushing the envelope of performance, do not hesitate to use additional resources. A great way to learn more about modeling is to, post questions to the [data modeling discussion forum](https://discuss.aerospike.com/c/how-developers-are-using-aerospike/data-modeling/143). This is especially worthwhile to optimize Aerospike performance for an application. In addition, discussing requirements with Aerospike's solutions architect team will *still* result in performance improvements and increase ROI for Aerospike."
   ]
  },
  {
   "cell_type": "markdown",
   "id": "answering-biotechnology",
   "metadata": {},
   "source": [
    "## Knowing the Right Questions to Ask is the First Step\n",
    "\n",
    "By nature, the above is incomplete knowledge on Modeling. This notebook may be updated with additional questions over time. Please [submit feedback](mailto:devhub-feedback@aerospike.com) to help refine it."
   ]
  },
  {
   "cell_type": "markdown",
   "id": "awful-generation",
   "metadata": {},
   "source": [
    "## Next steps\n",
    "\n",
    "Have questions? Don't hesitate to reach out if you have additional questions about data modeling at https://discuss.aerospike.com/c/how-developers-are-using-aerospike/data-modeling/143.\n",
    "\n",
    "Want to check out other Java notebooks?\n",
    "1. [Intro to Transactions](./java-intro_to_transactions.ipynb)\n",
    "2. [Modeling Using Lists](./java-modeling_using_lists.ipynb)\n",
    "3. [Working with Maps](./java-working_with_maps.ipynb)\n",
    "4. [Aerospike Query and UDF](query_udf.ipynb)\n",
    "\n",
    "\n",
    "Are you running this from Binder? [Download the Aerospike Notebook Repo](https://github.com/aerospike/aerospike-dev-notebooks.docker) and work with Aerospike Database and Jupyter locally using a Docker container."
   ]
  },
  {
   "cell_type": "markdown",
   "id": "cleared-vitamin",
   "metadata": {},
   "source": [
    "### Additional Resources\n",
    "\n",
    "* Want to get started with Java? [Download](https://www.aerospike.com/download/client/) or [install](https://github.com/aerospike/aerospike-client-java) the Aerospike Java Client.  \n",
    "(https://www.aerospike.com/apidocs/java/com/aerospike/client/cdt/MapOperation.html).\n",
    "* What are Namespaces, Sets, and Bins? Check out the [Aerospike Data Model](https://www.aerospike.com/docs/architecture/data-model.html). \n",
    "* How robust is the Aerospike Database? Browses the [Aerospike Database Architecture](https://www.aerospike.com/docs/architecture/index.html)."
   ]
  }
 ],
 "metadata": {
  "kernelspec": {
   "display_name": "Java",
   "language": "java",
   "name": "java"
  },
  "language_info": {
   "codemirror_mode": "java",
   "file_extension": ".jshell",
   "mimetype": "text/x-java-source",
   "name": "Java",
   "pygments_lexer": "java",
   "version": "11.0.8+10-LTS"
  },
  "toc": {
   "base_numbering": 1,
   "nav_menu": {},
   "number_sections": true,
   "sideBar": true,
   "skip_h1_title": false,
   "title_cell": "Table of Contents",
   "title_sidebar": "Contents",
   "toc_cell": false,
   "toc_position": {},
   "toc_section_display": true,
   "toc_window_display": true
  }
 },
 "nbformat": 4,
 "nbformat_minor": 5
}
