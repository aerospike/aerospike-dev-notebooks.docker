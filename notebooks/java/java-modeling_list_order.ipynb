{
 "cells": [
  {
   "cell_type": "markdown",
   "id": "negative-reaction",
   "metadata": {},
   "source": [
    "# Document Data Modeling Using List Order\n",
    "\n",
    "When should you order data in Aerospike?\n",
    "\n",
    "Given that each record in Aerospike adds a significant number of bytes to the index, the intuition is to store maps and lists of data – documents of data – rather than individual values. \n",
    "\n",
    "In particular, a list represents a lightweight record structure that optimizes storage, and Aerospike's List Operations provide an intuitive order to document-oriented data. This notebook shares how Aerospike facilitates working with list data, covering the following topics:\n",
    "* Ordering\n",
    "* Value Comparisons\n",
    "* Intervals\n",
    "* Relative Range Rank"
   ]
  },
  {
   "cell_type": "markdown",
   "id": "boxed-contest",
   "metadata": {
    "heading_collapsed": true
   },
   "source": [
    "## Notebook Setup\n",
    "\n",
    "To initialize Jupyter, Aerospike Database, and Aerospike Java Client for subsequent code cells, run these cells.\n",
    "\n",
    "This section is not central to this tutorial. For more information on notebook setup, see the  notebook [Working with Lists](./java-working-with-lists.ipynb)."
   ]
  },
  {
   "cell_type": "markdown",
   "id": "growing-gates",
   "metadata": {
    "hidden": true
   },
   "source": [
    "### Import Jupyter Java Integration "
   ]
  },
  {
   "cell_type": "code",
   "execution_count": 1,
   "id": "vulnerable-intake",
   "metadata": {
    "hidden": true
   },
   "outputs": [],
   "source": [
    "import io.github.spencerpark.ijava.IJava;\n",
    "import io.github.spencerpark.jupyter.kernel.magic.common.Shell;\n",
    "\n",
    "IJava.getKernelInstance().getMagics().registerMagics(Shell.class);"
   ]
  },
  {
   "cell_type": "markdown",
   "id": "ignored-defense",
   "metadata": {
    "hidden": true
   },
   "source": [
    "### Start Aerospike"
   ]
  },
  {
   "cell_type": "code",
   "execution_count": 2,
   "id": "outstanding-proposal",
   "metadata": {
    "hidden": true
   },
   "outputs": [],
   "source": [
    "%sh asd"
   ]
  },
  {
   "cell_type": "markdown",
   "id": "amazing-caution",
   "metadata": {
    "hidden": true
   },
   "source": [
    "### Download the Aerospike Java Client"
   ]
  },
  {
   "cell_type": "code",
   "execution_count": 3,
   "id": "descending-pencil",
   "metadata": {
    "hidden": true
   },
   "outputs": [],
   "source": [
    "%%loadFromPOM\n",
    "<dependencies>\n",
    "  <dependency>\n",
    "    <groupId>com.aerospike</groupId>\n",
    "    <artifactId>aerospike-client</artifactId>\n",
    "    <version>5.0.0</version>\n",
    "  </dependency>\n",
    "</dependencies>"
   ]
  },
  {
   "cell_type": "markdown",
   "id": "assumed-animal",
   "metadata": {
    "hidden": true
   },
   "source": [
    "### Start the Aerospike Java Client and Connect\n",
    "\n",
    "The default cluster location for the Docker container is *localhost* port *3000*. If your cluster is not running on your local machine, modify *localhost* and *3000* to the values for your Aerospike cluster."
   ]
  },
  {
   "cell_type": "code",
   "execution_count": 4,
   "id": "european-bachelor",
   "metadata": {
    "hidden": true
   },
   "outputs": [
    {
     "name": "stdout",
     "output_type": "stream",
     "text": [
      "Initialized the client and connected to the cluster.\n"
     ]
    }
   ],
   "source": [
    "import com.aerospike.client.AerospikeClient;\n",
    "\n",
    "AerospikeClient client = new AerospikeClient(\"localhost\", 3000);\n",
    "System.out.println(\"Initialized the client and connected to the cluster.\");"
   ]
  },
  {
   "cell_type": "markdown",
   "id": "varied-malta",
   "metadata": {},
   "source": [
    "# Aerospike Server Optionally Maintains Data in Order\n",
    "\n",
    "When working with real time data at scale, performance is everything and each operation has a performance cost. For List operations, Aerospike provides performance analysis for [all operations](https://www.aerospike.com/docs/guide/cdt-list-performance.html). Because Aerospike was made for real-time data processing of extremely large datasets, analysis is provided in [Big O notation]( https://en.wikipedia.org/wiki/Big_O_notation). \n",
    "\n",
    "Storing ordered data has its cost. \n",
    "\n",
    "* An application that has many small sparse data reads will commonly benefit little from using server cycles to order data.\n",
    "* An application that has fewer larger data reads.  \n"
   ]
  },
  {
   "cell_type": "markdown",
   "id": "immediate-butterfly",
   "metadata": {},
   "source": [
    "## Unordered Data – Putting Data into Aerospike Preserves Order\n",
    "\n",
    "Putting a list or map into Aerospike as **unordered** preserves the original order. This order can be accessed by **index** operations, and is maintained by adding new data using the **append** operation. Using the **Insert** operation to add at an index, inserts before a preexisting item, and increments the index for the preexisting item and subsequent items.\n",
    "\n",
    "For more information on [list operations](https://www.aerospike.com/apidocs/java/com/aerospike/client/cdt/ListOperation.html), go [here](https://www.aerospike.com/apidocs/java/com/aerospike/client/cdt/ListOperation.html).\n",
    "\n",
    "For more information on [map operations](https://www.aerospike.com/apidocs/java/com/aerospike/client/cdt/MapOperation.html), go [here](https://www.aerospike.com/apidocs/java/com/aerospike/client/cdt/MapOperation.html)."
   ]
  },
  {
   "cell_type": "markdown",
   "id": "eligible-jesus",
   "metadata": {},
   "source": [
    "## Ordered Data – the List or Map Upon Creation\n",
    "\n",
    "The best practice for ordering a bin is to order it upon creation in Aerospike. When there are few or no items in the list, the computational cost of ordering the bin is smallest. \n",
    "\n",
    "Ordering can be done at any time using the **setOrder** list operation. \n",
    "\n",
    "Use append to add to an ordered list. Appending will reorder the list, as necessary."
   ]
  },
  {
   "cell_type": "markdown",
   "id": "unable-hepatitis",
   "metadata": {},
   "source": [
    "### Create the List `[1]` "
   ]
  },
  {
   "cell_type": "code",
   "execution_count": 5,
   "id": "virgin-prison",
   "metadata": {
    "scrolled": true
   },
   "outputs": [
    {
     "name": "stdout",
     "output_type": "stream",
     "text": [
      "Original Integer List: [1]\n"
     ]
    }
   ],
   "source": [
    "import java.util.ArrayList;\n",
    "import java.util.Arrays;\n",
    "import java.util.List;\n",
    "import java.util.Map;\n",
    "\n",
    "ArrayList<Integer> origListInt = new ArrayList<Integer>();\n",
    "origListInt.add(1);\n",
    "\n",
    "System.out.println(\"Original Integer List: \" + origListInt);"
   ]
  },
  {
   "cell_type": "markdown",
   "id": "common-mercy",
   "metadata": {},
   "source": [
    "### Put The List Into Two Aerospike Bins"
   ]
  },
  {
   "cell_type": "code",
   "execution_count": 6,
   "id": "moderate-crime",
   "metadata": {},
   "outputs": [
    {
     "name": "stdout",
     "output_type": "stream",
     "text": [
      "Put list into record with bins: ordered and unordered\n"
     ]
    }
   ],
   "source": [
    "import com.aerospike.client.Key;\n",
    "import com.aerospike.client.Bin;\n",
    "import com.aerospike.client.policy.WritePolicy;\n",
    "import com.aerospike.client.policy.ClientPolicy;\n",
    "\n",
    "Integer theKey = 0;\n",
    "String listSet = \"orderset1\";\n",
    "String listNamespace = \"test\";\n",
    "String listOrderedBin = \"ordered\";\n",
    "String listUnorderedBin = \"unordered\";\n",
    "ClientPolicy clientPolicy = new ClientPolicy();\n",
    "\n",
    "Key key = new Key(listNamespace, listSet, theKey);\n",
    "Bin bin1 = new Bin(listOrderedBin, origListInt);\n",
    "Bin bin2 = new Bin(listUnorderedBin, origListInt);\n",
    "\n",
    "client.put(clientPolicy.writePolicyDefault, key, bin1, bin2);\n",
    "System.out.println(\"Put list into record with bins: \" + listOrderedBin + \" and \" \n",
    "                    + listUnorderedBin);"
   ]
  },
  {
   "cell_type": "markdown",
   "id": "yellow-passion",
   "metadata": {},
   "source": [
    "### Set the Sort Order for the Ordered Bin\n",
    "\n",
    "The [default order](https://www.aerospike.com/apidocs/java/com/aerospike/client/cdt/ListOrder.html) applied to a bin is unordered."
   ]
  },
  {
   "cell_type": "code",
   "execution_count": 7,
   "id": "racial-consciousness",
   "metadata": {},
   "outputs": [
    {
     "name": "stdout",
     "output_type": "stream",
     "text": [
      "Configured ordering policy to bin: ordered\n"
     ]
    }
   ],
   "source": [
    "import com.aerospike.client.Record;\n",
    "import com.aerospike.client.Operation;\n",
    "import com.aerospike.client.Value;\n",
    "import com.aerospike.client.cdt.ListOperation;\n",
    "import com.aerospike.client.cdt.ListOrder;\n",
    "\n",
    "Record record = client.get(null, key);\n",
    "record = client.operate(client.writePolicyDefault, key, \n",
    "                        ListOperation.setOrder(listOrderedBin, ListOrder.ORDERED)\n",
    "                        );\n",
    "\n",
    "System.out.println(\"Configured ordering policy to bin: \" + listOrderedBin);"
   ]
  },
  {
   "cell_type": "markdown",
   "id": "neither-expense",
   "metadata": {},
   "source": [
    "### Append Elements to Both Bins\n",
    "\n",
    "Append additional elements `[4, 7, 3, 9, 26, 11]`"
   ]
  },
  {
   "cell_type": "code",
   "execution_count": 8,
   "id": "adapted-correlation",
   "metadata": {},
   "outputs": [
    {
     "name": "stdout",
     "output_type": "stream",
     "text": [
      "Appending the following list items to both lists: [4, 7, 3, 9, 26, 11]\n",
      "The Unordered List is [1, 4, 7, 3, 9, 26, 11]\n",
      "The Ordered List is [1, 3, 4, 7, 9, 11, 26]\n"
     ]
    }
   ],
   "source": [
    "ArrayList<Value> addListInt = new ArrayList<Value>();\n",
    "addListInt.add(Value.get(4));\n",
    "addListInt.add(Value.get(7));\n",
    "addListInt.add(Value.get(3));\n",
    "addListInt.add(Value.get(9));\n",
    "addListInt.add(Value.get(26));\n",
    "addListInt.add(Value.get(11));\n",
    "\n",
    "System.out.println(\"Appending the following list items to both lists: \" + addListInt);\n",
    "\n",
    "Record record = client.get(null, key);\n",
    "record = client.operate(client.writePolicyDefault, key, \n",
    "                        ListOperation.appendItems(listOrderedBin, addListInt),\n",
    "                        ListOperation.appendItems(listUnorderedBin, addListInt) \n",
    "                        );\n",
    "                        \n",
    "Record finalListComp = client.get(null, key);\n",
    "System.out.println(\"The Unordered List is \" + finalListComp.getValue(listUnorderedBin));\n",
    "System.out.println(\"The Ordered List is \" + finalListComp.getValue(listOrderedBin));"
   ]
  },
  {
   "cell_type": "markdown",
   "id": "functional-medicine",
   "metadata": {},
   "source": [
    "# Aerospike Clients Provide JIT Ordering\n",
    "\n",
    "Aerospike list operations access data in lists by index or rank order. Index operations allow access by order of insertion. Aerospike client sorts data just-in-time for rank operations."
   ]
  },
  {
   "cell_type": "markdown",
   "id": "prompt-birmingham",
   "metadata": {},
   "source": [
    "## Rank Operations Sort All Data Types\n",
    "\n",
    "Rank operations order and return data from Aerospike. Rather than just order individual data types, Aerospike client manages a comprehensive order of all data types: \n",
    "\n",
    "1.\tNIL\n",
    "2.\tBoolean (Reserved for the future.)\n",
    "3.\tInteger\n",
    "4.\tString\n",
    "5.\tList\n",
    "6.\tMap\n",
    "7.\tBytes\n",
    "8. \tDouble\n",
    "9.\tGeoJSON\n",
    "10.\tINF\n",
    "\n",
    "Elements of type are ordered by type. For more information on the order of [data types](https://aerospike.com/docs/guide/cdt-ordering.html), go [here](https://aerospike.com/docs/guide/cdt-ordering.html).\n",
    "\n",
    "Here's how you use them."
   ]
  },
  {
   "cell_type": "markdown",
   "id": "later-party",
   "metadata": {},
   "source": [
    "### Using Rank Operations on Lists"
   ]
  },
  {
   "cell_type": "markdown",
   "id": "variable-gambling",
   "metadata": {},
   "source": [
    "#### Create A Mixed Data Type List\n",
    "\n",
    "Create a list containing letters, integers, and a nessted list:\n",
    "\n",
    "`['c', 3, 26, [25, 'y', 1], 11, 9, 4, 'a', 1, 7]`"
   ]
  },
  {
   "cell_type": "code",
   "execution_count": 9,
   "id": "reverse-gamma",
   "metadata": {},
   "outputs": [
    {
     "name": "stdout",
     "output_type": "stream",
     "text": [
      "Sub Mixed Type List: [25, y, 1]\n",
      "Mixed Type Data List: [c, 3, 26, [25, y, 1], 11, 9, 4, a, 1, 7]\n"
     ]
    }
   ],
   "source": [
    "ArrayList<Value> subMixedList = new ArrayList<Value>();\n",
    "subMixedList.add(Value.get(25));\n",
    "subMixedList.add(Value.get(\"y\"));\n",
    "subMixedList.add(Value.get(1));\n",
    "\n",
    "System.out.println(\"Sub Mixed Type List: \" + subMixedList);\n",
    "\n",
    "ArrayList<Value> mixedDataList = new ArrayList<Value>();\n",
    "mixedDataList.add(Value.get(\"c\"));\n",
    "mixedDataList.add(Value.get(3));\n",
    "mixedDataList.add(Value.get(26));\n",
    "mixedDataList.add(Value.get(subMixedList));\n",
    "mixedDataList.add(Value.get(11));\n",
    "mixedDataList.add(Value.get(9));\n",
    "mixedDataList.add(Value.get(4));\n",
    "mixedDataList.add(Value.get(\"a\"));\n",
    "mixedDataList.add(Value.get(1));\n",
    "mixedDataList.add(Value.get(7));\n",
    "\n",
    "System.out.println(\"Mixed Type Data List: \" + mixedDataList);"
   ]
  },
  {
   "cell_type": "markdown",
   "id": "professional-emerald",
   "metadata": {},
   "source": [
    "#### Put the List into Two Aerospike Bins"
   ]
  },
  {
   "cell_type": "code",
   "execution_count": 10,
   "id": "superior-trader",
   "metadata": {},
   "outputs": [
    {
     "name": "stdout",
     "output_type": "stream",
     "text": [
      "Created record with bins: ordered and unordered\n"
     ]
    }
   ],
   "source": [
    "Integer mixedKey = 1;\n",
    "String listSet = \"orderset1\";\n",
    "\n",
    "Key key = new Key(listNamespace, listSet, mixedKey);\n",
    "Bin bin1 = new Bin(listOrderedBin, mixedDataList);\n",
    "Bin bin2 = new Bin(listUnorderedBin, mixedDataList);\n",
    "\n",
    "client.put(clientPolicy.writePolicyDefault, key, bin1, bin2);\n",
    "System.out.println(\"Created record with bins: \" + listOrderedBin + \" and \" \n",
    "                    + listUnorderedBin);"
   ]
  },
  {
   "cell_type": "markdown",
   "id": "further-depression",
   "metadata": {},
   "source": [
    "#### Configure Sort Order for the Ordered Bin"
   ]
  },
  {
   "cell_type": "code",
   "execution_count": 11,
   "id": "wanted-springer",
   "metadata": {},
   "outputs": [
    {
     "name": "stdout",
     "output_type": "stream",
     "text": [
      "Configured ordering policy to bin: ordered\n",
      "The Unordered List is [c, 3, 26, [25, y, 1], 11, 9, 4, a, 1, 7]\n",
      "The Ordered List is [1, 3, 4, 7, 9, 11, 26, a, c, [25, y, 1]]\n"
     ]
    }
   ],
   "source": [
    "Record record = client.get(null, key);\n",
    "record = client.operate(client.writePolicyDefault, key, \n",
    "    ListOperation.setOrder(listOrderedBin, ListOrder.ORDERED)\n",
    "    );\n",
    "Record finalListComp = client.get(null, key);\n",
    "\n",
    "System.out.println(\"Configured ordering policy to bin: \" + listOrderedBin);\n",
    "System.out.println(\"The Unordered List is \" + finalListComp.getValue(listUnorderedBin));\n",
    "System.out.println(\"The Ordered List is \" + finalListComp.getValue(listOrderedBin));"
   ]
  },
  {
   "cell_type": "markdown",
   "id": "painful-anaheim",
   "metadata": {},
   "source": [
    "#### What is the range of elements between `NIL` and `10`?\n",
    "\n",
    "When comparing ranges in Aerospike, the lower end is *inclusive*, and the upper end is *exclusive*\n",
    "\n",
    "The singleton `NIL` is accessed in Java as `Value.NULL`. For more information on [Values](https://www.aerospike.com/apidocs/java/com/aerospike/client/Value.ListValue.html), go [here](https://www.aerospike.com/apidocs/java/com/aerospike/client/Value.ListValue.html)."
   ]
  },
  {
   "cell_type": "code",
   "execution_count": 12,
   "id": "gothic-bangkok",
   "metadata": {},
   "outputs": [
    {
     "name": "stdout",
     "output_type": "stream",
     "text": [
      "The Unordered List range is [3, 9, 4, 1, 7]\n",
      "The Ordered List range is [1, 3, 4, 7, 9]\n"
     ]
    }
   ],
   "source": [
    "import com.aerospike.client.cdt.ListReturnType;\n",
    "\n",
    "Value lowEnd = Value.NULL;\n",
    "Value highEnd = Value.get(10);\n",
    "\n",
    "Record rangeNIL10 = client.get(null, key);\n",
    "rangeNIL10 = client.operate(client.writePolicyDefault, key, \n",
    "                ListOperation.getByValueRange(listOrderedBin, lowEnd, highEnd, \n",
    "                                              ListReturnType.VALUE),\n",
    "                ListOperation.getByValueRange(listUnorderedBin, lowEnd, highEnd, \n",
    "                                              ListReturnType.VALUE)\n",
    "                );\n",
    "\n",
    "System.out.println(\"The Unordered List range is \" + rangeNIL10.getValue(listUnorderedBin));\n",
    "System.out.println(\"The Ordered List range is \" + rangeNIL10.getValue(listOrderedBin));"
   ]
  },
  {
   "cell_type": "markdown",
   "id": "noted-canada",
   "metadata": {},
   "source": [
    "#### What is the range of elements between `'a'` and `[ ]`?"
   ]
  },
  {
   "cell_type": "code",
   "execution_count": 13,
   "id": "educational-specialist",
   "metadata": {},
   "outputs": [
    {
     "name": "stdout",
     "output_type": "stream",
     "text": [
      "The Unordered List range is [c, a]\n",
      "The Ordered List range is [a, c]\n"
     ]
    }
   ],
   "source": [
    "ArrayList<Value> emptyList = new ArrayList<Value>();\n",
    "\n",
    "Value lowEnd = Value.get(\"a\");\n",
    "Value highEnd = Value.get(emptyList);\n",
    "\n",
    "Record rangeANullList = client.get(null, key);\n",
    "rangeANullList = client.operate(client.writePolicyDefault, key, \n",
    "                ListOperation.getByValueRange(listOrderedBin, lowEnd, highEnd, \n",
    "                                              ListReturnType.VALUE),\n",
    "                ListOperation.getByValueRange(listUnorderedBin, lowEnd, highEnd, \n",
    "                                              ListReturnType.VALUE)\n",
    "                );\n",
    "\n",
    "System.out.println(\"The Unordered List range is \" + rangeANullList.getValue(listUnorderedBin));\n",
    "System.out.println(\"The Ordered List range is \" + rangeANullList.getValue(listOrderedBin));"
   ]
  },
  {
   "cell_type": "markdown",
   "id": "transparent-integral",
   "metadata": {},
   "source": [
    "#### What is the range of elements between `[ ]` and `INF`?\n",
    "\n",
    "The singleton `INF` is accessed in Java as `Value.INFINITY`. For more information on [Values](https://www.aerospike.com/apidocs/java/com/aerospike/client/Value.ListValue.html), go [here](https://www.aerospike.com/apidocs/java/com/aerospike/client/Value.ListValue.html)."
   ]
  },
  {
   "cell_type": "code",
   "execution_count": 14,
   "id": "fifth-contest",
   "metadata": {},
   "outputs": [
    {
     "name": "stdout",
     "output_type": "stream",
     "text": [
      "The Unordered List range is [[25, y, 1]]\n",
      "The Ordered List range is [[25, y, 1]]\n"
     ]
    }
   ],
   "source": [
    "Value lowEnd = Value.get(emptyList);\n",
    "Value highEnd = Value.INFINITY;\n",
    "\n",
    "Record rangeNullInf = client.get(null, key);\n",
    "rangeNullInf = client.operate(client.writePolicyDefault, key, \n",
    "                ListOperation.getByValueRange(listOrderedBin, lowEnd, highEnd, \n",
    "                                              ListReturnType.VALUE),\n",
    "                ListOperation.getByValueRange(listUnorderedBin, lowEnd, highEnd, \n",
    "                                              ListReturnType.VALUE)\n",
    "                );\n",
    "\n",
    "System.out.println(\"The Unordered List range is \" + rangeNullInf.getValue(listUnorderedBin));\n",
    "System.out.println(\"The Ordered List range is \" + rangeNullInf.getValue(listOrderedBin));"
   ]
  },
  {
   "cell_type": "markdown",
   "id": "joint-treaty",
   "metadata": {},
   "source": [
    "### Rank Works Reliably Independent of List Ordering\n",
    "\n",
    "As demonstrated above, rank works identically, no matter whether the list is ordered or not."
   ]
  },
  {
   "cell_type": "markdown",
   "id": "pharmaceutical-exhaust",
   "metadata": {},
   "source": [
    "### Using Rank on Lists of Tuples\n",
    "\n",
    "Ordering lists containing sublists and maps works intuitively and differently from simple lists.\n",
    "\n",
    "1. Sublists or maps in an ordered list are not implicitly ordered.\n",
    "2. Items are inserted in rank order. \n",
    "3. Greater List length results in higher rank \n",
    "\n",
    "Here are some examples."
   ]
  },
  {
   "cell_type": "markdown",
   "id": "modified-backup",
   "metadata": {},
   "source": [
    "#### Create a Sorted and Unsorted Empty List"
   ]
  },
  {
   "cell_type": "code",
   "execution_count": 15,
   "id": "flush-carol",
   "metadata": {},
   "outputs": [
    {
     "name": "stdout",
     "output_type": "stream",
     "text": [
      "Created record with bins: ordered and unordered\n",
      "Configured ordering policy to bin: ordered\n",
      "The Unordered List is []\n",
      "The Ordered List is []\n"
     ]
    }
   ],
   "source": [
    "Integer listOfListsKey = 2;\n",
    "String listSet = \"orderset1\";\n",
    "\n",
    "Key key = new Key(listNamespace, listSet, listOfListsKey);\n",
    "Bin bin1 = new Bin(listOrderedBin, emptyList);\n",
    "Bin bin2 = new Bin(listUnorderedBin, emptyList);\n",
    "\n",
    "client.put(clientPolicy.writePolicyDefault, key, bin1, bin2);\n",
    "System.out.println(\"Created record with bins: \" + listOrderedBin + \" and \" \n",
    "                    + listUnorderedBin);\n",
    "                    \n",
    "Record record = client.get(null, key);\n",
    "record = client.operate(client.writePolicyDefault, key, \n",
    "    ListOperation.setOrder(listOrderedBin, ListOrder.ORDERED)\n",
    "    );\n",
    "Record initialEmptyLists = client.get(null, key);\n",
    "\n",
    "System.out.println(\"Configured ordering policy to bin: \" + listOrderedBin);\n",
    "System.out.println(\"The Unordered List is \" + initialEmptyLists.getValue(listUnorderedBin));\n",
    "System.out.println(\"The Ordered List is \" + initialEmptyLists.getValue(listOrderedBin));"
   ]
  },
  {
   "cell_type": "markdown",
   "id": "athletic-roads",
   "metadata": {},
   "source": [
    "#### Add  `[1, 1]`"
   ]
  },
  {
   "cell_type": "code",
   "execution_count": 16,
   "id": "missing-rider",
   "metadata": {},
   "outputs": [
    {
     "name": "stdout",
     "output_type": "stream",
     "text": [
      "The Unordered List is [[1, 1]]\n",
      "The Ordered List is [[1, 1]]\n"
     ]
    }
   ],
   "source": [
    "ArrayList<Integer> thisTuple = new ArrayList<Integer>();\n",
    "thisTuple.add(1);\n",
    "thisTuple.add(1);\n",
    "\n",
    "Record record = client.get(null, key);\n",
    "record = client.operate(client.writePolicyDefault, key, \n",
    "    ListOperation.append(listOrderedBin, Value.get(thisTuple)),\n",
    "    ListOperation.append(listUnorderedBin, Value.get(thisTuple))    \n",
    "    );\n",
    "Record listWith11 = client.get(null, key);\n",
    "\n",
    "System.out.println(\"The Unordered List is \" + listWith11.getValue(listUnorderedBin));\n",
    "System.out.println(\"The Ordered List is \" + listWith11.getValue(listOrderedBin));"
   ]
  },
  {
   "cell_type": "markdown",
   "id": "handled-entry",
   "metadata": {},
   "source": [
    "#### Add  `[1, 3]`"
   ]
  },
  {
   "cell_type": "code",
   "execution_count": 17,
   "id": "wrong-hardware",
   "metadata": {},
   "outputs": [
    {
     "name": "stdout",
     "output_type": "stream",
     "text": [
      "The Unordered List is [[1, 1], [1, 3]]\n",
      "The Ordered List is [[1, 1], [1, 3]]\n"
     ]
    }
   ],
   "source": [
    "ArrayList<Integer> thisTuple = new ArrayList<Integer>();\n",
    "thisTuple.add(1);\n",
    "thisTuple.add(3);\n",
    "\n",
    "Record record = client.get(null, key);\n",
    "record = client.operate(client.writePolicyDefault, key, \n",
    "    ListOperation.append(listOrderedBin, Value.get(thisTuple)),\n",
    "    ListOperation.append(listUnorderedBin, Value.get(thisTuple))    \n",
    "    );\n",
    "Record listWith13 = client.get(null, key);\n",
    "\n",
    "System.out.println(\"The Unordered List is \" + listWith13.getValue(listUnorderedBin));\n",
    "System.out.println(\"The Ordered List is \" + listWith13.getValue(listOrderedBin));"
   ]
  },
  {
   "cell_type": "markdown",
   "id": "mobile-protest",
   "metadata": {},
   "source": [
    "#### Add  `[1, 2, 0, 1]`"
   ]
  },
  {
   "cell_type": "code",
   "execution_count": 18,
   "id": "driven-brunei",
   "metadata": {},
   "outputs": [
    {
     "name": "stdout",
     "output_type": "stream",
     "text": [
      "The Unordered List is [[1, 1], [1, 3], [1, 2, 0, 1]]\n",
      "The Ordered List is [[1, 1], [1, 2, 0, 1], [1, 3]]\n"
     ]
    }
   ],
   "source": [
    "ArrayList<Integer> thisTuple = new ArrayList<Integer>();\n",
    "thisTuple.add(1);\n",
    "thisTuple.add(2);\n",
    "thisTuple.add(0);\n",
    "thisTuple.add(1);\n",
    "\n",
    "Record record = client.get(null, key);\n",
    "record = client.operate(client.writePolicyDefault, key, \n",
    "    ListOperation.append(listOrderedBin, Value.get(thisTuple)),\n",
    "    ListOperation.append(listUnorderedBin, Value.get(thisTuple))    \n",
    "    );\n",
    "Record listWith1201 = client.get(null, key);\n",
    "\n",
    "System.out.println(\"The Unordered List is \" + listWith1201.getValue(listUnorderedBin));\n",
    "System.out.println(\"The Ordered List is \" + listWith1201.getValue(listOrderedBin));"
   ]
  },
  {
   "cell_type": "markdown",
   "id": "separated-jewel",
   "metadata": {},
   "source": [
    "#### Add  `[1, 2]`"
   ]
  },
  {
   "cell_type": "code",
   "execution_count": 19,
   "id": "dependent-response",
   "metadata": {},
   "outputs": [
    {
     "name": "stdout",
     "output_type": "stream",
     "text": [
      "The Unordered List is [[1, 1], [1, 3], [1, 2, 0, 1], [1, 2]]\n",
      "The Ordered List is [[1, 1], [1, 2], [1, 2, 0, 1], [1, 3]]\n"
     ]
    }
   ],
   "source": [
    "ArrayList<Integer> thisTuple = new ArrayList<Integer>();\n",
    "thisTuple.add(1);\n",
    "thisTuple.add(2);\n",
    "\n",
    "Record record = client.get(null, key);\n",
    "record = client.operate(client.writePolicyDefault, key, \n",
    "    ListOperation.append(listOrderedBin, Value.get(thisTuple)),\n",
    "    ListOperation.append(listUnorderedBin, Value.get(thisTuple))    \n",
    "    );\n",
    "Record listWith12 = client.get(null, key);\n",
    "\n",
    "System.out.println(\"The Unordered List is \" + listWith12.getValue(listUnorderedBin));\n",
    "System.out.println(\"The Ordered List is \" + listWith12.getValue(listOrderedBin));"
   ]
  },
  {
   "cell_type": "markdown",
   "id": "green-developer",
   "metadata": {},
   "source": [
    "### Using Intervals \n",
    "\n",
    "Interval operations deliver parts of a JIT-ordered list, whether or not the data is sorted. Intervals use the same consistent sort order across data types as rank:\n",
    "* `[2, NIL]` is to the right of anything `[1, ...]`, regardless of element count.\n",
    "* `[1, INF]` is to the left of anything `[1, ...]` and to the right of anything `[2, ...]`.\n",
    "\n",
    "The value is in using lists as a lightweight record structure, which can be queried by interval.\n",
    "\n",
    "Here are some examples."
   ]
  },
  {
   "cell_type": "markdown",
   "id": "municipal-primary",
   "metadata": {},
   "source": [
    "#### Create a List of Tuples Data Set\n",
    "`[[2, 7], [3, 1], [1, 1], [2, 5], [1, 2], [0, 3]`"
   ]
  },
  {
   "cell_type": "code",
   "execution_count": 20,
   "id": "living-chain",
   "metadata": {},
   "outputs": [
    {
     "name": "stdout",
     "output_type": "stream",
     "text": [
      "Tuple List: [[2, 7], [3, 1], [1, 1], [2, 5], [1, 2], [0, 3]]\n"
     ]
    }
   ],
   "source": [
    "ArrayList<Integer> subTuple0 = new ArrayList<Integer>();\n",
    "subTuple0.add(2);\n",
    "subTuple0.add(7);\n",
    "\n",
    "ArrayList<Integer> subTuple1 = new ArrayList<Integer>();\n",
    "subTuple1.add(3);\n",
    "subTuple1.add(1);\n",
    "\n",
    "ArrayList<Integer> subTuple2 = new ArrayList<Integer>();\n",
    "subTuple2.add(1);\n",
    "subTuple2.add(1);\n",
    "\n",
    "ArrayList<Integer> subTuple3 = new ArrayList<Integer>();\n",
    "subTuple3.add(2);\n",
    "subTuple3.add(5);\n",
    "\n",
    "ArrayList<Integer> subTuple4 = new ArrayList<Integer>();\n",
    "subTuple4.add(1);\n",
    "subTuple4.add(2);\n",
    "\n",
    "ArrayList<Integer> subTuple5 = new ArrayList<Integer>();\n",
    "subTuple5.add(0);\n",
    "subTuple5.add(3);\n",
    "\n",
    "ArrayList<Value> tupleList = new ArrayList<Value>();\n",
    "tupleList.add(Value.get(subTuple0));\n",
    "tupleList.add(Value.get(subTuple1));\n",
    "tupleList.add(Value.get(subTuple2));\n",
    "tupleList.add(Value.get(subTuple3));\n",
    "tupleList.add(Value.get(subTuple4));\n",
    "tupleList.add(Value.get(subTuple5));\n",
    "\n",
    "System.out.println(\"Tuple List: \" + tupleList);"
   ]
  },
  {
   "cell_type": "markdown",
   "id": "geological-circumstances",
   "metadata": {},
   "source": [
    "#### Put the List Into Two Aerospike Bins"
   ]
  },
  {
   "cell_type": "code",
   "execution_count": 21,
   "id": "appreciated-charger",
   "metadata": {},
   "outputs": [
    {
     "name": "stdout",
     "output_type": "stream",
     "text": [
      "Created record with bins: ordered and unordered\n"
     ]
    }
   ],
   "source": [
    "Integer tupleKey = 3;\n",
    "String listSet = \"orderset1\";\n",
    "\n",
    "Key key = new Key(listNamespace, listSet, tupleKey);\n",
    "Bin bin1 = new Bin(listOrderedBin, tupleList);\n",
    "Bin bin2 = new Bin(listUnorderedBin, tupleList);\n",
    "\n",
    "client.put(clientPolicy.writePolicyDefault, key, bin1, bin2);\n",
    "System.out.println(\"Created record with bins: \" + listOrderedBin + \" and \" \n",
    "                    + listUnorderedBin);"
   ]
  },
  {
   "cell_type": "markdown",
   "id": "dominican-repeat",
   "metadata": {},
   "source": [
    "#### Get the Interval Between `[1, NIL]` and `[2, NIL]`"
   ]
  },
  {
   "cell_type": "code",
   "execution_count": 22,
   "id": "gorgeous-bearing",
   "metadata": {},
   "outputs": [
    {
     "name": "stdout",
     "output_type": "stream",
     "text": [
      "The Unordered List between [1, null] and [2, null] is [[1, 1], [1, 2]]\n",
      "The Ordered List between [1, null] and [2, null] is [[1, 1], [1, 2]]\n"
     ]
    }
   ],
   "source": [
    "ArrayList<Value> lowTuple = new ArrayList<Value>();\n",
    "lowTuple.add(Value.get(1));\n",
    "lowTuple.add(Value.NULL);\n",
    "\n",
    "ArrayList<Value> highTuple = new ArrayList<Value>();\n",
    "highTuple.add(Value.get(2));\n",
    "highTuple.add(Value.NULL);\n",
    "\n",
    "Record between1and2 = client.get(null, key);\n",
    "between1and2 = client.operate(client.writePolicyDefault, key, \n",
    "    ListOperation.getByValueRange(listOrderedBin, Value.get(lowTuple), Value.get(highTuple), \n",
    "        ListReturnType.VALUE),\n",
    "    ListOperation.getByValueRange(listUnorderedBin, Value.get(lowTuple), Value.get(highTuple), \n",
    "        ListReturnType.VALUE)    \n",
    "    );\n",
    "\n",
    "System.out.println(\"The Unordered List between \" + lowTuple + \" and \" + highTuple + \" is \" \n",
    "    + between1and2.getValue(listUnorderedBin));\n",
    "System.out.println(\"The Ordered List between \" + lowTuple + \" and \" + highTuple + \" is \" \n",
    "    + between1and2.getValue(listOrderedBin));"
   ]
  },
  {
   "cell_type": "markdown",
   "id": "numerous-suspension",
   "metadata": {},
   "source": [
    "Get the Interval Between `[1, NIL]` and `[1, INF]`."
   ]
  },
  {
   "cell_type": "code",
   "execution_count": 23,
   "id": "based-shoulder",
   "metadata": {},
   "outputs": [
    {
     "name": "stdout",
     "output_type": "stream",
     "text": [
      "The Unordered List between [1, null] and [1, INF] is [[1, 1], [1, 2]]\n",
      "The Ordered List between [1, null] and [1, INF] is [[1, 1], [1, 2]]\n"
     ]
    }
   ],
   "source": [
    "ArrayList<Value> lowTuple = new ArrayList<Value>();\n",
    "lowTuple.add(Value.get(1));\n",
    "lowTuple.add(Value.NULL);\n",
    "\n",
    "ArrayList<Value> highTuple = new ArrayList<Value>();\n",
    "highTuple.add(Value.get(1));\n",
    "highTuple.add(Value.INFINITY);\n",
    "\n",
    "Record between1NILand1INF = client.get(null, key);\n",
    "between1NILand1INF = client.operate(client.writePolicyDefault, key, \n",
    "    ListOperation.getByValueRange(listOrderedBin, Value.get(lowTuple), Value.get(highTuple), \n",
    "        ListReturnType.VALUE),\n",
    "    ListOperation.getByValueRange(listUnorderedBin, Value.get(lowTuple), Value.get(highTuple), \n",
    "        ListReturnType.VALUE)    \n",
    "    );\n",
    "\n",
    "System.out.println(\"The Unordered List between \" + lowTuple + \" and \" + highTuple + \" is \" \n",
    "    + between1NILand1INF.getValue(listUnorderedBin));\n",
    "System.out.println(\"The Ordered List between \" + lowTuple + \" and \" + highTuple + \" is \" \n",
    "    + between1NILand1INF.getValue(listOrderedBin));"
   ]
  },
  {
   "cell_type": "markdown",
   "id": "damaged-quarter",
   "metadata": {},
   "source": [
    "### The Ordering of the Data is Independent of Results \n",
    "\n",
    "As demonstrated, the results are the same whether the data is ordered or unordered in the database."
   ]
  },
  {
   "cell_type": "markdown",
   "id": "enclosed-sequence",
   "metadata": {},
   "source": [
    "# Examples"
   ]
  },
  {
   "cell_type": "markdown",
   "id": "hollow-catalyst",
   "metadata": {},
   "source": [
    "## Example 1 – IoT Model\n",
    "\n",
    "Modeling with tuples is powerful. Consider a smart thermometer taking a reading one time per minute. A clean model for storage is a list of tuples.\n",
    "\n",
    "For more information on this [IoT example](https://dev.to/aerospike/aerospike-modeling-iot-sensors-453a), go [here](https://dev.to/aerospike/aerospike-modeling-iot-sensors-453a)."
   ]
  },
  {
   "cell_type": "markdown",
   "id": "beautiful-wealth",
   "metadata": {},
   "source": [
    "### Create Sample Data\n",
    "\n",
    "Record Format – `[minutes-since-epoch, temperature]\n",
    "[14062, 39.04]\n",
    "[14063, 39.78]\n",
    "[14065, 40.07]\n",
    "[14064, 40.89]\n",
    "[14066, 41.18]\n",
    "[14067, 40.93]`"
   ]
  },
  {
   "cell_type": "code",
   "execution_count": 24,
   "id": "dominant-paint",
   "metadata": {},
   "outputs": [
    {
     "name": "stdout",
     "output_type": "stream",
     "text": [
      "IoT Tuple List: [[14062, 39.04], [14063, 39.78], [14065, 40.07], [14064, 40.89], [14066, 41.18], [14067, 40.93]]\n"
     ]
    }
   ],
   "source": [
    "ArrayList<Value> subTuple0 = new ArrayList<Value>();\n",
    "subTuple0.add(Value.get(14062));\n",
    "subTuple0.add(Value.get(39.04));\n",
    "\n",
    "ArrayList<Value> subTuple1 = new ArrayList<Value>();\n",
    "subTuple1.add(Value.get(14063));\n",
    "subTuple1.add(Value.get(39.78));\n",
    "\n",
    "ArrayList<Value> subTuple2 = new ArrayList<Value>();\n",
    "subTuple2.add(Value.get(14065));\n",
    "subTuple2.add(Value.get(40.07));\n",
    "\n",
    "ArrayList<Value> subTuple3 = new ArrayList<Value>();\n",
    "subTuple3.add(Value.get(14064));\n",
    "subTuple3.add(Value.get(40.89));\n",
    "\n",
    "ArrayList<Value> subTuple4 = new ArrayList<Value>();\n",
    "subTuple4.add(Value.get(14066));\n",
    "subTuple4.add(Value.get(41.18));\n",
    "\n",
    "ArrayList<Value> subTuple5 = new ArrayList<Value>();\n",
    "subTuple5.add(Value.get(14067));\n",
    "subTuple5.add(Value.get(40.93));\n",
    "\n",
    "ArrayList<Value> tupleListIoT = new ArrayList<Value>();\n",
    "tupleListIoT.add(Value.get(subTuple0));\n",
    "tupleListIoT.add(Value.get(subTuple1));\n",
    "tupleListIoT.add(Value.get(subTuple2));\n",
    "tupleListIoT.add(Value.get(subTuple3));\n",
    "tupleListIoT.add(Value.get(subTuple4));\n",
    "tupleListIoT.add(Value.get(subTuple5));\n",
    "\n",
    "System.out.println(\"IoT Tuple List: \" + tupleListIoT);"
   ]
  },
  {
   "cell_type": "markdown",
   "id": "convenient-tracy",
   "metadata": {},
   "source": [
    "### Put the List in an Unordered Bin"
   ]
  },
  {
   "cell_type": "code",
   "execution_count": 25,
   "id": "aggregate-louis",
   "metadata": {},
   "outputs": [
    {
     "name": "stdout",
     "output_type": "stream",
     "text": [
      "Created record with bin: unordered\n"
     ]
    }
   ],
   "source": [
    "Integer keyIoT = 4;\n",
    "String listSet = \"orderset1\";\n",
    "ClientPolicy clientPolicy = new ClientPolicy();\n",
    "\n",
    "Key key = new Key(listNamespace, listSet, keyIoT);\n",
    "Bin bin1 = new Bin(listUnorderedBin, tupleListIoT);\n",
    "\n",
    "client.put(clientPolicy.writePolicyDefault, key, bin1);\n",
    "System.out.println(\"Created record with bin: \" + listUnorderedBin);"
   ]
  },
  {
   "cell_type": "markdown",
   "id": "operating-flashing",
   "metadata": {},
   "source": [
    "### Get Temperature Readings Between Minute 14063 and 14064"
   ]
  },
  {
   "cell_type": "code",
   "execution_count": 26,
   "id": "broadband-produce",
   "metadata": {},
   "outputs": [
    {
     "name": "stdout",
     "output_type": "stream",
     "text": [
      "The readings between [14063, null] and [14064, INF] are [[14063, 39.78], [14064, 40.89]]\n"
     ]
    }
   ],
   "source": [
    "ArrayList<Value> lowTuple = new ArrayList<Value>();\n",
    "lowTuple.add(Value.get(14063));\n",
    "lowTuple.add(Value.NULL);\n",
    "\n",
    "ArrayList<Value> highTuple = new ArrayList<Value>();\n",
    "highTuple.add(Value.get(14064));\n",
    "highTuple.add(Value.INFINITY);\n",
    "\n",
    "Record between14063and14064 = client.get(null, key);\n",
    "between14063and14064 = client.operate(client.writePolicyDefault, key, \n",
    "    ListOperation.getByValueRange(listUnorderedBin, Value.get(lowTuple), Value.get(highTuple), \n",
    "        ListReturnType.VALUE)    \n",
    "    );\n",
    "\n",
    "System.out.println(\"The readings between \" + lowTuple + \" and \" + highTuple + \" are \" \n",
    "    + between14063and14064.getValue(listUnorderedBin));"
   ]
  },
  {
   "cell_type": "markdown",
   "id": "quarterly-valentine",
   "metadata": {},
   "source": [
    "## Example 2 – 100 Meter Sprint Leaderboard\n",
    "\n",
    "Here is an example with mixed type data and overlapping datasets. It also highlights Aerospike's ability to find the tuples closest to a given value, **relative range ranking**."
   ]
  },
  {
   "cell_type": "markdown",
   "id": "norman-pencil",
   "metadata": {},
   "source": [
    "### Create Overlapping Mixed-Type Data Sample\n",
    "\n",
    "Record format – `[Time, Athlete, Location, Date]`\n",
    "\n",
    "#### Create Example Data Set 1\n",
    "\n",
    "wr100m1 – \n",
    "`[\n",
    "[10.06, \"Bob Hayes\", \"Tokyo, Japan\", \"October 15, 1964\"],\n",
    "[10.03, \"Jim Hines\", \"Sacramento, USA\", \"June 20, 1968\"],\n",
    "[10.02, \"Charles Greene\", \"Mexico City, Mexico\", \"October 13, 1968\"],\n",
    "[9.95, \"Jim Hines\", \"Mexico City, Mexico\", \"October 14, 1968\"],\n",
    "[9.93, \"Calvin Smith\", \"Colorado Springs, USA\", \"July 3, 1983\"],\n",
    "[9.93, \"Carl Lewis\", \"Rome, Italy\", \"August 30, 1987\"],\n",
    "[9.92, \"Carl Lewis\", \"Seoul, South Korea\", \"September 24, 1988\"]\n",
    "]`"
   ]
  },
  {
   "cell_type": "code",
   "execution_count": 27,
   "id": "protected-sierra",
   "metadata": {
    "scrolled": true
   },
   "outputs": [
    {
     "name": "stdout",
     "output_type": "stream",
     "text": [
      "100m World Record Holder List 1: [[10.06, Bob Hayes, Tokyo, Japan, October 15, 1964], [10.03, Jim Hines, Sacramento, USA, June 20,1968], [10.02, Charles Greene, Mexico City, Mexico, October 13, 1968], [9.95, Jim Hines, Mexico City, Mexico, October 14, 1968], [9.93, Calvin Smith, Colorado Springs, USA, July 3, 1983], [9.93, Carl Lewis, Rome, Italy, August 30, 1987], [9.92, Carl Lewis, Seoul, South Korea, September 24, 1988]]\n"
     ]
    }
   ],
   "source": [
    "ArrayList<Value> wr100One0 = new ArrayList<Value>();\n",
    "wr100One0.add(Value.get(10.06));\n",
    "wr100One0.add(Value.get(\"Bob Hayes\"));\n",
    "wr100One0.add(Value.get(\"Tokyo, Japan\"));\n",
    "wr100One0.add(Value.get(\"October 15, 1964\"));\n",
    "\n",
    "ArrayList<Value> wr100One1 = new ArrayList<Value>();\n",
    "wr100One1.add(Value.get(10.03));\n",
    "wr100One1.add(Value.get(\"Jim Hines\"));\n",
    "wr100One1.add(Value.get(\"Sacramento, USA\"));\n",
    "wr100One1.add(Value.get(\"June 20,1968\"));\n",
    "\n",
    "ArrayList<Value> wr100One2 = new ArrayList<Value>();\n",
    "wr100One2.add(Value.get(10.02));\n",
    "wr100One2.add(Value.get(\"Charles Greene\"));\n",
    "wr100One2.add(Value.get(\"Mexico City, Mexico\"));\n",
    "wr100One2.add(Value.get(\"October 13, 1968\"));\n",
    "\n",
    "ArrayList<Value> wr100One3 = new ArrayList<Value>();\n",
    "wr100One3.add(Value.get(9.95));\n",
    "wr100One3.add(Value.get(\"Jim Hines\"));\n",
    "wr100One3.add(Value.get(\"Mexico City, Mexico\"));\n",
    "wr100One3.add(Value.get(\"October 14, 1968\"));\n",
    "\n",
    "ArrayList<Value> wr100One4 = new ArrayList<Value>();\n",
    "wr100One4.add(Value.get(9.93));\n",
    "wr100One4.add(Value.get(\"Calvin Smith\"));\n",
    "wr100One4.add(Value.get(\"Colorado Springs, USA\"));\n",
    "wr100One4.add(Value.get(\"July 3, 1983\"));\n",
    "\n",
    "ArrayList<Value> wr100One5 = new ArrayList<Value>();\n",
    "wr100One5.add(Value.get(9.93));\n",
    "wr100One5.add(Value.get(\"Carl Lewis\"));\n",
    "wr100One5.add(Value.get(\"Rome, Italy\"));\n",
    "wr100One5.add(Value.get(\"August 30, 1987\"));\n",
    "\n",
    "ArrayList<Value> wr100One6 = new ArrayList<Value>();\n",
    "wr100One6.add(Value.get(9.92));\n",
    "wr100One6.add(Value.get(\"Carl Lewis\"));\n",
    "wr100One6.add(Value.get(\"Seoul, South Korea\"));\n",
    "wr100One6.add(Value.get(\"September 24, 1988\"));\n",
    "\n",
    "\n",
    "ArrayList<Value> wr100m1List = new ArrayList<Value>();\n",
    "wr100m1List.add(Value.get(wr100One0));\n",
    "wr100m1List.add(Value.get(wr100One1));\n",
    "wr100m1List.add(Value.get(wr100One2));\n",
    "wr100m1List.add(Value.get(wr100One3));\n",
    "wr100m1List.add(Value.get(wr100One4));\n",
    "wr100m1List.add(Value.get(wr100One5));\n",
    "wr100m1List.add(Value.get(wr100One6));\n",
    "\n",
    "\n",
    "System.out.println(\"100m World Record Holder List 1: \" + wr100m1List);"
   ]
  },
  {
   "cell_type": "markdown",
   "id": "behavioral-marathon",
   "metadata": {},
   "source": [
    "#### Create Example Data Set 2\n",
    "\n",
    "wr_100m_2 – `[\n",
    "[9.93, \"Carl Lewis\", \"Rome, Italy\", \"August 30, 1987\"],\n",
    "[9.92, \"Carl Lewis\", \"Seoul, South Korea\", \"September 24, 1988\"],\n",
    "[9.90, \"Leroy Burrell\", \"New York, USA\", \"June 14, 1991\"],\n",
    "[9.86, \"Carl Lewis\", \"Tokyo, Japan\", \"August 25, 1991\"],\n",
    "[9.85, \"Leroy Burrell\", \"Lausanne, Switzerland\", \"July 6, 1994\"],\n",
    "[9.84, \"Donovan Bailey\", \"Atlanta, USA\", \"July 27, 1996\"],\n",
    "[9.79, \"Maurice Greene\", \"Athens, Greece\", \"June 16, 1999\"],\n",
    "[9.77, \"Asafa Powell\", \"Athens, Greece\", \"June 14, 2005\"],\n",
    "[9.77, \"Asafa Powell\", \"Gateshead, England\", \"June 11, 2006\"],\n",
    "[9.77, \"Asafa Powell\", \"Zurich, Switzerland\", \"August 18, 2006\"],\n",
    "[9.74, \"Asafa Powell\", \"Rieti, Italy\", \"September 9, 2007\"],\n",
    "[9.72, \"Usain Bolt\", \"New York, USA\", \"May 31, 2008\"],\n",
    "[9.69, \"Usain Bolt\", \"Beijing, China\", \"August 16, 2008\"],\n",
    "[9.58, \"Usain Bolt\", \"Berlin, Germany\", \"August 16, 2009\"]\n",
    "]`"
   ]
  },
  {
   "cell_type": "code",
   "execution_count": 31,
   "id": "sophisticated-timber",
   "metadata": {
    "scrolled": true
   },
   "outputs": [
    {
     "name": "stdout",
     "output_type": "stream",
     "text": [
      "100m World Record Holder List 2: [[9.93, Carl Lewis, Rome, Italy, August 30, 1987], [9.92, Carl Lewis, Seoul, South Korea, September 24, 1988], [9.9, Leroy Burrell, New York, USA, June 14, 1991], [9.86, Carl Lewis, Tokyo, Japan, August 25, 1991], [9.85, Leroy Burrell, Lausanne, Switzerland, July 6, 1994], [9.84, Donovan Bailey, Atlanta, USA, July 27, 1996], [9.79, Maurice Greene, Athens, Greece, June 16, 1999], [9.77, Asafa Powell, Athens, Greece, June 14, 2005], [9.77, Asafa Powell, Gateshead, England, June 11, 2006], [9.77, Asafa Powell, Zurich, Switzerland, August 18, 2006], [9.74, Asafa Powell, Rieti, Italy, September 9, 2007], [9.72, Usain Bolt, New York, USA, May 31, 2008], [9.69, Usain Bolt, Beijing, China, August 16, 2008], [9.58, Usain Bolt, Berlin, Germany, August 16, 2009]]\n"
     ]
    }
   ],
   "source": [
    "ArrayList<Value> wr100Two0 = new ArrayList<Value>();\n",
    "wr100Two0.add(Value.get(9.93));\n",
    "wr100Two0.add(Value.get(\"Carl Lewis\"));\n",
    "wr100Two0.add(Value.get(\"Rome, Italy\"));\n",
    "wr100Two0.add(Value.get(\"August 30, 1987\"));\n",
    "\n",
    "ArrayList<Value> wr100Two1 = new ArrayList<Value>();\n",
    "wr100Two1.add(Value.get(9.92));\n",
    "wr100Two1.add(Value.get(\"Carl Lewis\"));\n",
    "wr100Two1.add(Value.get(\"Seoul, South Korea\"));\n",
    "wr100Two1.add(Value.get(\"September 24, 1988\"));\n",
    "\n",
    "ArrayList<Value> wr100Two2 = new ArrayList<Value>();\n",
    "wr100Two2.add(Value.get(9.90));\n",
    "wr100Two2.add(Value.get(\"Leroy Burrell\"));\n",
    "wr100Two2.add(Value.get(\"New York, USA\"));\n",
    "wr100Two2.add(Value.get(\"June 14, 1991\"));\n",
    "\n",
    "ArrayList<Value> wr100Two3 = new ArrayList<Value>();\n",
    "wr100Two3.add(Value.get(9.86));\n",
    "wr100Two3.add(Value.get(\"Carl Lewis\"));\n",
    "wr100Two3.add(Value.get(\"Tokyo, Japan\"));\n",
    "wr100Two3.add(Value.get(\"August 25, 1991\"));\n",
    "\n",
    "ArrayList<Value> wr100Two4 = new ArrayList<Value>();\n",
    "wr100Two4.add(Value.get(9.85));\n",
    "wr100Two4.add(Value.get(\"Leroy Burrell\"));\n",
    "wr100Two4.add(Value.get(\"Lausanne, Switzerland\"));\n",
    "wr100Two4.add(Value.get(\"July 6, 1994\"));\n",
    "\n",
    "ArrayList<Value> wr100Two5 = new ArrayList<Value>();\n",
    "wr100Two5.add(Value.get(9.84));\n",
    "wr100Two5.add(Value.get(\"Donovan Bailey\"));\n",
    "wr100Two5.add(Value.get(\"Atlanta, USA\"));\n",
    "wr100Two5.add(Value.get(\"July 27, 1996\"));\n",
    "\n",
    "ArrayList<Value> wr100Two6 = new ArrayList<Value>();\n",
    "wr100Two6.add(Value.get(9.79));\n",
    "wr100Two6.add(Value.get(\"Maurice Greene\"));\n",
    "wr100Two6.add(Value.get(\"Athens, Greece\"));\n",
    "wr100Two6.add(Value.get(\"June 16, 1999\"));\n",
    "\n",
    "ArrayList<Value> wr100Two7 = new ArrayList<Value>();\n",
    "wr100Two7.add(Value.get(9.77));\n",
    "wr100Two7.add(Value.get(\"Asafa Powell\"));\n",
    "wr100Two7.add(Value.get(\"Athens, Greece\"));\n",
    "wr100Two7.add(Value.get(\"June 14, 2005\"));\n",
    "\n",
    "ArrayList<Value> wr100Two8 = new ArrayList<Value>();\n",
    "wr100Two8.add(Value.get(9.77));\n",
    "wr100Two8.add(Value.get(\"Asafa Powell\"));\n",
    "wr100Two8.add(Value.get(\"Gateshead, England\"));\n",
    "wr100Two8.add(Value.get(\"June 11, 2006\"));\n",
    "\n",
    "ArrayList<Value> wr100Two9 = new ArrayList<Value>();\n",
    "wr100Two9.add(Value.get(9.77));\n",
    "wr100Two9.add(Value.get(\"Asafa Powell\"));\n",
    "wr100Two9.add(Value.get(\"Zurich, Switzerland\"));\n",
    "wr100Two9.add(Value.get(\"August 18, 2006\"));\n",
    "\n",
    "ArrayList<Value> wr100Two10 = new ArrayList<Value>();\n",
    "wr100Two10.add(Value.get(9.74));\n",
    "wr100Two10.add(Value.get(\"Asafa Powell\"));\n",
    "wr100Two10.add(Value.get(\"Rieti, Italy\"));\n",
    "wr100Two10.add(Value.get(\"September 9, 2007\"));\n",
    "\n",
    "ArrayList<Value> wr100Two11 = new ArrayList<Value>();\n",
    "wr100Two11.add(Value.get(9.72));\n",
    "wr100Two11.add(Value.get(\"Usain Bolt\"));\n",
    "wr100Two11.add(Value.get(\"New York, USA\"));\n",
    "wr100Two11.add(Value.get(\"May 31, 2008\"));\n",
    "\n",
    "ArrayList<Value> wr100Two12 = new ArrayList<Value>();\n",
    "wr100Two12.add(Value.get(9.69));\n",
    "wr100Two12.add(Value.get(\"Usain Bolt\"));\n",
    "wr100Two12.add(Value.get(\"Beijing, China\"));\n",
    "wr100Two12.add(Value.get(\"August 16, 2008\"));\n",
    "\n",
    "ArrayList<Value> wr100Two13 = new ArrayList<Value>();\n",
    "wr100Two13.add(Value.get(9.58));\n",
    "wr100Two13.add(Value.get(\"Usain Bolt\"));\n",
    "wr100Two13.add(Value.get(\"Berlin, Germany\"));\n",
    "wr100Two13.add(Value.get(\"August 16, 2009\"));\n",
    "\n",
    "\n",
    "ArrayList<Value> wr100m2List = new ArrayList<Value>();\n",
    "wr100m2List.add(Value.get(wr100Two0));\n",
    "wr100m2List.add(Value.get(wr100Two1));\n",
    "wr100m2List.add(Value.get(wr100Two2));\n",
    "wr100m2List.add(Value.get(wr100Two3));\n",
    "wr100m2List.add(Value.get(wr100Two4));\n",
    "wr100m2List.add(Value.get(wr100Two5));\n",
    "wr100m2List.add(Value.get(wr100Two6));\n",
    "wr100m2List.add(Value.get(wr100Two7));\n",
    "wr100m2List.add(Value.get(wr100Two8));\n",
    "wr100m2List.add(Value.get(wr100Two9));\n",
    "wr100m2List.add(Value.get(wr100Two10));\n",
    "wr100m2List.add(Value.get(wr100Two11));\n",
    "wr100m2List.add(Value.get(wr100Two12));\n",
    "wr100m2List.add(Value.get(wr100Two13));\n",
    "\n",
    "System.out.println(\"100m World Record Holder List 2: \" + wr100m2List);"
   ]
  },
  {
   "cell_type": "markdown",
   "id": "numeric-hammer",
   "metadata": {},
   "source": [
    "#### Put Data Set 1 Into An Aerospike Bin \n",
    "\n",
    "Data Set 2 will be used later."
   ]
  },
  {
   "cell_type": "code",
   "execution_count": 28,
   "id": "satisfactory-thirty",
   "metadata": {},
   "outputs": [
    {
     "name": "stdout",
     "output_type": "stream",
     "text": [
      "Created record with bin: leaders\n"
     ]
    }
   ],
   "source": [
    "Integer keyWR = 5;\n",
    "String listSet = \"orderset1\";\n",
    "String listLeadersBin = \"leaders\";\n",
    "\n",
    "Key key = new Key(listNamespace, listSet, keyWR);\n",
    "Bin bin1 = new Bin(listLeadersBin, wr100m1List);\n",
    "\n",
    "client.put(clientPolicy.writePolicyDefault, key, bin1);\n",
    "System.out.println(\"Created record with bin: \" + listLeadersBin);"
   ]
  },
  {
   "cell_type": "markdown",
   "id": "nearby-resource",
   "metadata": {},
   "source": [
    "#### Sort the Bin"
   ]
  },
  {
   "cell_type": "code",
   "execution_count": 29,
   "id": "stuffed-tanzania",
   "metadata": {},
   "outputs": [
    {
     "name": "stdout",
     "output_type": "stream",
     "text": [
      "Ordered bin: leaders\n"
     ]
    }
   ],
   "source": [
    "Record record = client.get(null, key);\n",
    "record = client.operate(client.writePolicyDefault, key, \n",
    "    ListOperation.setOrder(listLeadersBin, ListOrder.ORDERED)\n",
    "    );\n",
    "\n",
    "System.out.println(\"Ordered bin: \" + listLeadersBin);"
   ]
  },
  {
   "cell_type": "markdown",
   "id": "determined-fighter",
   "metadata": {},
   "source": [
    "### Find the Closest to 10.0 Seconds using Relative Range Rank\n",
    "\n",
    "Sometimes the goal is to find the closes matches to a given data point. Aerospike provides this using **Relative Range Rank**. Finding the closest elements to 10 seconds is finding the closest relative range items to `[10.0, NIL]`."
   ]
  },
  {
   "cell_type": "code",
   "execution_count": 30,
   "id": "gentle-silicon",
   "metadata": {
    "scrolled": true
   },
   "outputs": [
    {
     "name": "stdout",
     "output_type": "stream",
     "text": [
      "The Closest World Records to 10.0 seconds are [[9.95, Jim Hines, Mexico City, Mexico, October 14, 1968], [10.02, Charles Greene, Mexico City, Mexico, October 13, 1968]]\n"
     ]
    }
   ],
   "source": [
    "ArrayList<Value> searchTuple = new ArrayList<Value>();\n",
    "searchTuple.add(Value.get(10.0));\n",
    "searchTuple.add(Value.NULL);\n",
    "\n",
    "Integer searchRank = -1;\n",
    "Integer searchQty = 2;\n",
    "\n",
    "Record closestTo10 = client.get(null, key);\n",
    "closestTo10 = client.operate(client.writePolicyDefault, key, \n",
    "    ListOperation.getByValueRelativeRankRange(listLeadersBin, Value.get(searchTuple), \n",
    "        searchRank, searchQty, ListReturnType.VALUE)\n",
    "    );\n",
    "\n",
    "System.out.println(\"The Closest World Records to 10.0 seconds are \" + \n",
    "    closestTo10.getValue(listLeadersBin));"
   ]
  },
  {
   "cell_type": "markdown",
   "id": "talented-kazakhstan",
   "metadata": {},
   "source": [
    "### Combine the Two Lists into One Ordered Unique List"
   ]
  },
  {
   "cell_type": "markdown",
   "id": "minus-concept",
   "metadata": {},
   "source": [
    "#### Create A List Policy to Remove Duplicates\n",
    "\n",
    "A **list write policy** contains the **sort order** and **flags** to govern the addition. For information on the [flags](https://www.aerospike.com/apidocs/java/com/aerospike/client/cdt/ListWriteFlags.html), go [here](https://www.aerospike.com/apidocs/java/com/aerospike/client/cdt/ListWriteFlags.html). \n",
    "\n",
    "Because the two data sets contain overlapping records, the operation needs to apply the following policies:\n",
    "* ADD_UNIQUE – Add all unique items to the list.\n",
    "* NO_FAIL – Duplicate item errors are expected and should not cause the operation to fail.\n",
    "* PARTIAL – Add items that are not duplicates.\n"
   ]
  },
  {
   "cell_type": "code",
   "execution_count": 43,
   "id": "frequent-elite",
   "metadata": {},
   "outputs": [
    {
     "name": "stdout",
     "output_type": "stream",
     "text": [
      "Created List Policy for Ordering and Adding Only Unique Items.\n"
     ]
    }
   ],
   "source": [
    "import com.aerospike.client.cdt.ListPolicy;\n",
    "import com.aerospike.client.cdt.ListWriteFlags;\n",
    "\n",
    "int listUniqueFlags = ListWriteFlags.ADD_UNIQUE \n",
    "                        | ListWriteFlags.NO_FAIL \n",
    "                        | ListWriteFlags.PARTIAL;\n",
    "\n",
    "ListPolicy policyOrderedNoDupes = new ListPolicy(ListOrder.ORDERED, listUniqueFlags); \n",
    "                                                 \n",
    "System.out.println(\"Created List Policy for Ordering and Adding Only Unique Items.\");"
   ]
  },
  {
   "cell_type": "markdown",
   "id": "artificial-orientation",
   "metadata": {},
   "source": [
    "#### Append the Second Data Set Using the New Policy"
   ]
  },
  {
   "cell_type": "code",
   "execution_count": 44,
   "id": "major-williams",
   "metadata": {},
   "outputs": [
    {
     "name": "stdout",
     "output_type": "stream",
     "text": [
      "The complete, deduplicated LeadersList is: [[10.06, Bob Hayes, Tokyo, Japan, October 15, 1964], [10.03, Jim Hines, Sacramento, USA, June 20,1968], [10.02, Charles Greene, Mexico City, Mexico, October 13, 1968], [9.95, Jim Hines, Mexico City, Mexico, October 14, 1968], [9.93, Calvin Smith, Colorado Springs, USA, July 3, 1983], [9.93, Carl Lewis, Rome, Italy, August 30, 1987], [9.92, Carl Lewis, Seoul, South Korea, September 24, 1988], [9.9, Leroy Burrell, New York, USA, June 14, 1991], [9.86, Carl Lewis, Tokyo, Japan, August 25, 1991], [9.85, Leroy Burrell, Lausanne, Switzerland, July 6, 1994], [9.84, Donovan Bailey, Atlanta, USA, July 27, 1996], [9.79, Maurice Greene, Athens, Greece, June 16, 1999], [9.77, Asafa Powell, Athens, Greece, June 14, 2005], [9.77, Asafa Powell, Gateshead, England, June 11, 2006], [9.77, Asafa Powell, Zurich, Switzerland, August 18, 2006], [9.74, Asafa Powell, Rieti, Italy, September 9, 2007], [9.72, Usain Bolt, New York, USA, May 31, 2008], [9.69, Usain Bolt, Beijing, China, August 16, 2008], [9.58, Usain Bolt, Berlin, Germany, August 16, 2009]]\n"
     ]
    }
   ],
   "source": [
    "Record record = client.get(null, key);\n",
    "record = client.operate(client.writePolicyDefault, key, \n",
    "    ListOperation.appendItems(policyOrderedNoDupes, listLeadersBin, wr100m2List)\n",
    "    );\n",
    "Record fullLeadersList = client.get(null, key);\n",
    "\n",
    "\n",
    "System.out.println(\"The complete, deduplicated LeadersList is: \" \n",
    "                    + fullLeadersList.getValue(listLeadersBin));"
   ]
  },
  {
   "cell_type": "markdown",
   "id": "incorrect-houston",
   "metadata": {},
   "source": [
    "# Takeaway – Sort for App Read/Write Performance\n",
    "\n",
    "Since, the results are the same whether the data is ordered or unordered in the database. The question becomes, \"Does sorting the data benefit application performance for reads/writes?\""
   ]
  },
  {
   "cell_type": "markdown",
   "id": "rural-permission",
   "metadata": {},
   "source": [
    "# Next Steps "
   ]
  }
 ],
 "metadata": {
  "kernelspec": {
   "display_name": "Java",
   "language": "java",
   "name": "java"
  },
  "language_info": {
   "codemirror_mode": "java",
   "file_extension": ".jshell",
   "mimetype": "text/x-java-source",
   "name": "Java",
   "pygments_lexer": "java",
   "version": "11.0.8+10-LTS"
  },
  "toc": {
   "base_numbering": 1,
   "nav_menu": {},
   "number_sections": true,
   "sideBar": true,
   "skip_h1_title": false,
   "title_cell": "Table of Contents",
   "title_sidebar": "Contents",
   "toc_cell": false,
   "toc_position": {},
   "toc_section_display": true,
   "toc_window_display": true
  }
 },
 "nbformat": 4,
 "nbformat_minor": 5
}
